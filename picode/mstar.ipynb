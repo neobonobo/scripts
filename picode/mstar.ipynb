{
 "cells": [
  {
   "cell_type": "markdown",
   "metadata": {},
   "source": [
    "### Average USD Rates\n",
    "Rate | USD | TL\n",
    "---|---|----\n",
    "2014|1| 2.19\n",
    "2015| 1 | 2.68\n",
    "\n",
    "### Employee Salary Table\n",
    "\n",
    "Year|Basic Salary|Social Security|Expenses\n",
    "---|---|---|---\n",
    "2014|128K USD|88751 TL|52765 TL\n",
    "2015|112K USD|88782 TL|85980 TL\n",
    "\n",
    "Year | Flight Tickets | Accounting | Rent\n",
    "---|---|---|---\n",
    "2014 | 36401 TL | 25673 TL | \n",
    "2015 | 58228 TL | 36665 TL |\n",
    "\n",
    "### Employee Expenses Table\n",
    "\n",
    "2015|Expenses|Allowance\n",
    "---|---|---\n",
    "Fatih|47705 TL|5320 TL\n",
    "Kursat|31115 TL|1840 TL\n",
    "\n",
    "2014|Expenses|Allowance\n",
    "---|---|---\n",
    "Fatih|32602 TL|1418 TL\n",
    "Kursat|17552 TL|1765 TL\n",
    "\n",
    "### Flight Tickets\n",
    "\n",
    "Aborda|Flight tickets\n",
    "---|---\n",
    "2014|43015 TL\n",
    "2015|58834 TL\n",
    "\n",
    "### Accounting\n",
    " Year |Quarter|Amount\n",
    "---|---\n",
    "2014|Q1|6366 TL\n",
    "2014|Q2|6008 TL\n",
    "2014|Q3|6276 TL\n",
    "2014|Q4|6879 TL\n",
    "2014|Total|25529 TL\n",
    "2015|Q1|7120 TL\n",
    "2015|Q2|7788 TL\n",
    "2015|Q3|8379 TL\n",
    "2015|Q4|9008 TL\n",
    "2015|Total|32295 TL\n",
    "2015|Work Permit|4322 TL\n"
   ]
  }
 ],
 "metadata": {
  "kernelspec": {
   "display_name": "Python 3",
   "language": "python",
   "name": "python3"
  },
  "language_info": {
   "codemirror_mode": {
    "name": "ipython",
    "version": 3
   },
   "file_extension": ".py",
   "mimetype": "text/x-python",
   "name": "python",
   "nbconvert_exporter": "python",
   "pygments_lexer": "ipython3",
   "version": "3.7.0"
  }
 },
 "nbformat": 4,
 "nbformat_minor": 1
}
