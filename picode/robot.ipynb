{
 "cells": [
  {
   "cell_type": "code",
   "execution_count": 8,
   "metadata": {},
   "outputs": [],
   "source": [
    "import datetime\n",
    "import os,subprocess\n",
    "import csv\n",
    "import subprocess\n",
    "#subprocess.call([\"command1\", \"arg1\", \"arg2\"])"
   ]
  },
  {
   "cell_type": "code",
   "execution_count": 3,
   "metadata": {},
   "outputs": [
    {
     "name": "stdout",
     "output_type": "stream",
     "text": [
      "Give the url or type 'quit' to quit\n",
      "\n"
     ]
    }
   ],
   "source": [
    "command=input(\"Give the url or type 'quit' to quit\\n\")\n",
    "while True:\n",
    "    if command==\"quit\":\n",
    "        break\n",
    "    elif command==\"repeat me\":\n",
    "        print(command)\n",
    "        command=input(\"Now, what?\")\n",
    "    else:\n",
    "        break"
   ]
  },
  {
   "cell_type": "code",
   "execution_count": 7,
   "metadata": {},
   "outputs": [
    {
     "name": "stdout",
     "output_type": "stream",
     "text": [
      "b'total 2160\\n-rw-r--r--   1 debi  staff   5.8K Apr 14 08:23 Classes.ipynb\\n-rw-r--r--@  1 debi  staff   8.5K Jan 22 09:07 Comprehensions.ipynb\\n-rw-r--r--@  1 debi  staff    31K Apr 11 14:10 FileHandling.ipynb\\n-rw-r--r--   1 debi  staff   3.0K Dec 21 17:08 Functions.ipynb\\n-rw-r--r--@  1 debi  staff    17K Apr  5 04:14 Networking.ipynb\\n-rw-r--r--   1 debi  staff    72B Apr  1 18:44 Untitled.ipynb\\n-rw-r--r--   1 debi  staff    35K Jan 23  2018 Untitled1.ipynb\\ndrwxr-xr-x   3 debi  staff    96B Apr 14 08:31 __pycache__\\ndrwxr-xr-x  10 debi  staff   320B Mar  6 19:50 budget\\n-rw-r--r--   1 debi  staff     1B Mar  6 18:45 data_file.json\\n-rw-r--r--   1 debi  staff   4.0K Mar  3  2016 database.ipynb\\n-rw-r--r--   1 debi  staff   212K Apr 15 15:00 db.sqlite3\\n-rw-r--r--   1 debi  staff    13K Mar  8 19:06 django.ipynb\\ndrwxr-xr-x  13 debi  staff   416B Jan 22 09:23 economy\\ndrwxr-xr-x   3 debi  staff    96B Aug 23  2018 env\\n-rw-r--r--   1 debi  staff   264B Apr 14 21:48 esac.sh\\n-rw-r--r--   1 debi  staff   199B Apr 14 21:54 filter.sh\\ndrwxr-xr-x  12 debi  staff   384B Oct 26 13:44 home\\n-rw-r--r--   1 debi  staff   6.8K Apr 12 08:09 inputs.txt\\n-rwxr-xr-x   1 debi  staff   539B Aug 23  2018 manage.py\\ndrwxr-xr-x   3 debi  staff    96B Oct 31 17:49 media\\n-rw-r--r--   1 debi  staff   6.4K Apr 11 14:16 missing_inputs\\n-rw-r--r--   1 debi  staff   1.8K Dec 28 20:16 mstar.ipynb\\n-rw-r--r--   1 debi  staff   2.4K Apr 13 12:56 my_classes.ipynb\\n-rw-r--r--   1 debi  staff   5.5K Apr 14 08:30 mylib.py\\n-rw-r--r--   1 debi  staff   8.6K Apr 14 08:44 mylib.pyc\\n-rw-r--r--   1 debi  staff   453B Apr 12 12:02 mysystem.sh\\ndrwxr-xr-x  12 debi  staff   384B Jan 27 19:02 news\\ndrwxr-xr-x  14 debi  staff   448B Feb  7 13:04 notes\\n-rw-r--r--   1 debi  staff     9B Dec 19  2017 numbers.json\\ndrwxr-xr-x   7 debi  staff   224B Feb 27 17:06 persite\\n-rw-r--r--@  1 debi  staff   308K Apr 12 14:19 pi3_04-12-19-17h19m34s.jpg\\n-rw-r--r--   1 debi  staff   246K Apr 20 08:47 playing the api.ipynb\\n-rw-r--r--   1 debi  staff   6.6K Apr 20 15:04 robot.ipynb\\n-rw-r--r--   1 debi  staff    46K Feb  1  2016 site.tar\\ndrwxr-xr-x   3 debi  staff    96B Feb 19 20:03 templates\\n-rw-r--r--   1 debi  staff    64B Apr 15 10:03 test.py\\n' b''\n"
     ]
    }
   ],
   "source": [
    "process = Popen(['ls', '-lh'], stdout=PIPE, stderr=PIPE)\n",
    "stdout, stderr = process.communicate()\n",
    "print(stdout,stderr)"
   ]
  },
  {
   "cell_type": "code",
   "execution_count": 10,
   "metadata": {},
   "outputs": [],
   "source": [
    "s = subprocess.check_output([\"echo\", \"Hello World!\"])"
   ]
  },
  {
   "cell_type": "code",
   "execution_count": 13,
   "metadata": {},
   "outputs": [
    {
     "name": "stdout",
     "output_type": "stream",
     "text": [
      "b'Hello World!\\n'\n"
     ]
    }
   ],
   "source": [
    "print(str(s))"
   ]
  },
  {
   "cell_type": "markdown",
   "metadata": {},
   "source": [
    "## Fibonacci"
   ]
  },
  {
   "cell_type": "code",
   "execution_count": 2,
   "metadata": {},
   "outputs": [],
   "source": [
    "def fib(n):\n",
    "    a, b = 0, 1\n",
    "    while a < n:\n",
    "        print(a, end=' ')\n",
    "        a, b = b, a+b\n",
    "        print()"
   ]
  },
  {
   "cell_type": "code",
   "execution_count": 7,
   "metadata": {},
   "outputs": [
    {
     "name": "stdout",
     "output_type": "stream",
     "text": [
      "0 \n",
      "1 \n",
      "1 \n",
      "2 \n",
      "3 \n",
      "5 \n",
      "8 \n",
      "13 \n",
      "21 \n",
      "34 \n",
      "55 \n",
      "89 \n",
      "144 \n",
      "233 \n",
      "377 \n",
      "610 \n",
      "987 \n"
     ]
    }
   ],
   "source": [
    "fib(1000)"
   ]
  },
  {
   "cell_type": "markdown",
   "metadata": {},
   "source": [
    "## Youtube-dl"
   ]
  },
  {
   "cell_type": "code",
   "execution_count": 6,
   "metadata": {},
   "outputs": [
    {
     "name": "stdout",
     "output_type": "stream",
     "text": [
      "Give me a url:\n",
      "https://www.youtube.com/watch?v=kdhTodxH7Gw\n",
      "https://www.youtube.com/watch?v=kdhTodxH7Gw\n"
     ]
    }
   ],
   "source": [
    "url=input(\"Give me a url:\\n\")\n",
    "print(url)"
   ]
  },
  {
   "cell_type": "code",
   "execution_count": 22,
   "metadata": {},
   "outputs": [],
   "source": [
    "meta={}"
   ]
  },
  {
   "cell_type": "code",
   "execution_count": 30,
   "metadata": {},
   "outputs": [],
   "source": [
    "now=datetime.date.today()"
   ]
  },
  {
   "cell_type": "markdown",
   "metadata": {},
   "source": [
    "## Collected Days"
   ]
  },
  {
   "cell_type": "code",
   "execution_count": 3,
   "metadata": {},
   "outputs": [],
   "source": [
    "collected_days={}\n",
    "collected_days['no_smoking_date']=datetime.date(2017,9,30)\n",
    "collected_days['Tibet5start']=datetime.date(2017,10,11)"
   ]
  },
  {
   "cell_type": "code",
   "execution_count": 4,
   "metadata": {},
   "outputs": [
    {
     "name": "stdout",
     "output_type": "stream",
     "text": [
      "no_smoking_date\n",
      "2017-09-30\n",
      "Tibet5start\n",
      "2017-10-11\n"
     ]
    }
   ],
   "source": [
    "for day in collected_days.keys():\n",
    "    print(day+\"\\n\"+str(collected_days[day]))"
   ]
  },
  {
   "cell_type": "code",
   "execution_count": 5,
   "metadata": {},
   "outputs": [
    {
     "name": "stdout",
     "output_type": "stream",
     "text": [
      "481\n"
     ]
    }
   ],
   "source": [
    "print((datetime.date.today()-collected_days['no_smoking_date']).days)"
   ]
  },
  {
   "cell_type": "code",
   "execution_count": null,
   "metadata": {},
   "outputs": [],
   "source": []
  }
 ],
 "metadata": {
  "kernelspec": {
   "display_name": "Python 3",
   "language": "python",
   "name": "python3"
  },
  "language_info": {
   "codemirror_mode": {
    "name": "ipython",
    "version": 3
   },
   "file_extension": ".py",
   "mimetype": "text/x-python",
   "name": "python",
   "nbconvert_exporter": "python",
   "pygments_lexer": "ipython3",
   "version": "3.7.0"
  }
 },
 "nbformat": 4,
 "nbformat_minor": 1
}
