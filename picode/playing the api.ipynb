{
 "cells": [
  {
   "cell_type": "markdown",
   "metadata": {},
   "source": [
    "## Libraries"
   ]
  },
  {
   "cell_type": "code",
   "execution_count": 1,
   "metadata": {},
   "outputs": [],
   "source": [
    "from django.db.models import Avg\n",
    "from django.http import HttpResponse\n",
    "from django.views import View"
   ]
  },
  {
   "cell_type": "code",
   "execution_count": null,
   "metadata": {},
   "outputs": [],
   "source": []
  },
  {
   "cell_type": "code",
   "execution_count": 10,
   "metadata": {},
   "outputs": [],
   "source": [
    "import os,json,csv"
   ]
  },
  {
   "cell_type": "code",
   "execution_count": 2,
   "metadata": {},
   "outputs": [],
   "source": [
    "from datetime import date,datetime"
   ]
  },
  {
   "cell_type": "code",
   "execution_count": 12,
   "metadata": {},
   "outputs": [],
   "source": [
    "from budget.models import Expense"
   ]
  },
  {
   "cell_type": "code",
   "execution_count": 13,
   "metadata": {},
   "outputs": [],
   "source": [
    "from mylib import Day"
   ]
  },
  {
   "cell_type": "code",
   "execution_count": 14,
   "metadata": {},
   "outputs": [],
   "source": [
    "moment=Day()"
   ]
  },
  {
   "cell_type": "code",
   "execution_count": 16,
   "metadata": {},
   "outputs": [
    {
     "name": "stdout",
     "output_type": "stream",
     "text": [
      "Sunday, 14 April\n"
     ]
    }
   ],
   "source": [
    "moment.greetings()"
   ]
  },
  {
   "cell_type": "code",
   "execution_count": 17,
   "metadata": {},
   "outputs": [],
   "source": [
    "def greet_user():\n",
    "    \"\"\"Display a simple greeting.\"\"\"\n",
    "    today=datetime.date.today()\n",
    "    query=Expense.objects.filter(edate__month=today.month)\n",
    "    c=0\n",
    "    for exp in query:\n",
    "        c+=exp.amount\n",
    "    print(f\"Hello\\nToday is {today.strftime('%A %B %d')}\")\n",
    "    print(f\"Bu ay {c} tl harcadiniz\")"
   ]
  },
  {
   "cell_type": "code",
   "execution_count": 22,
   "metadata": {},
   "outputs": [
    {
     "ename": "SyntaxError",
     "evalue": "invalid syntax (<ipython-input-22-de5a19ddf4f5>, line 1)",
     "output_type": "error",
     "traceback": [
      "\u001b[0;36m  File \u001b[0;32m\"<ipython-input-22-de5a19ddf4f5>\"\u001b[0;36m, line \u001b[0;32m1\u001b[0m\n\u001b[0;31m    echo \"Today's date is `date`, this is week `date +\"%V\"`.\"\u001b[0m\n\u001b[0m                                                      ^\u001b[0m\n\u001b[0;31mSyntaxError\u001b[0m\u001b[0;31m:\u001b[0m invalid syntax\n"
     ]
    }
   ],
   "source": [
    "echo \"Today's date is `date`, this is week `date +\"%V\"`.\""
   ]
  },
  {
   "cell_type": "code",
   "execution_count": 18,
   "metadata": {},
   "outputs": [
    {
     "ename": "AttributeError",
     "evalue": "'method_descriptor' object has no attribute 'today'",
     "output_type": "error",
     "traceback": [
      "\u001b[0;31m---------------------------------------------------------------------------\u001b[0m",
      "\u001b[0;31mAttributeError\u001b[0m                            Traceback (most recent call last)",
      "\u001b[0;32m<ipython-input-18-0202aef1053d>\u001b[0m in \u001b[0;36m<module>\u001b[0;34m()\u001b[0m\n\u001b[0;32m----> 1\u001b[0;31m \u001b[0mgreet_user\u001b[0m\u001b[0;34m(\u001b[0m\u001b[0;34m)\u001b[0m\u001b[0;34m\u001b[0m\u001b[0m\n\u001b[0m",
      "\u001b[0;32m<ipython-input-17-22b01fb8976c>\u001b[0m in \u001b[0;36mgreet_user\u001b[0;34m()\u001b[0m\n\u001b[1;32m      1\u001b[0m \u001b[0;32mdef\u001b[0m \u001b[0mgreet_user\u001b[0m\u001b[0;34m(\u001b[0m\u001b[0;34m)\u001b[0m\u001b[0;34m:\u001b[0m\u001b[0;34m\u001b[0m\u001b[0m\n\u001b[1;32m      2\u001b[0m     \u001b[0;34m\"\"\"Display a simple greeting.\"\"\"\u001b[0m\u001b[0;34m\u001b[0m\u001b[0m\n\u001b[0;32m----> 3\u001b[0;31m     \u001b[0mtoday\u001b[0m\u001b[0;34m=\u001b[0m\u001b[0mdatetime\u001b[0m\u001b[0;34m.\u001b[0m\u001b[0mdate\u001b[0m\u001b[0;34m.\u001b[0m\u001b[0mtoday\u001b[0m\u001b[0;34m(\u001b[0m\u001b[0;34m)\u001b[0m\u001b[0;34m\u001b[0m\u001b[0m\n\u001b[0m\u001b[1;32m      4\u001b[0m     \u001b[0mquery\u001b[0m\u001b[0;34m=\u001b[0m\u001b[0mExpense\u001b[0m\u001b[0;34m.\u001b[0m\u001b[0mobjects\u001b[0m\u001b[0;34m.\u001b[0m\u001b[0mfilter\u001b[0m\u001b[0;34m(\u001b[0m\u001b[0medate__month\u001b[0m\u001b[0;34m=\u001b[0m\u001b[0mtoday\u001b[0m\u001b[0;34m.\u001b[0m\u001b[0mmonth\u001b[0m\u001b[0;34m)\u001b[0m\u001b[0;34m\u001b[0m\u001b[0m\n\u001b[1;32m      5\u001b[0m     \u001b[0mc\u001b[0m\u001b[0;34m=\u001b[0m\u001b[0;36m0\u001b[0m\u001b[0;34m\u001b[0m\u001b[0m\n",
      "\u001b[0;31mAttributeError\u001b[0m: 'method_descriptor' object has no attribute 'today'"
     ]
    }
   ],
   "source": [
    "greet_user() "
   ]
  },
  {
   "cell_type": "markdown",
   "metadata": {},
   "source": [
    "## Time"
   ]
  },
  {
   "cell_type": "code",
   "execution_count": 5,
   "metadata": {},
   "outputs": [],
   "source": [
    "datetime_object=datetime.now()"
   ]
  },
  {
   "cell_type": "code",
   "execution_count": 8,
   "metadata": {},
   "outputs": [
    {
     "data": {
      "text/plain": [
       "datetime.datetime(2019, 5, 7, 17, 47, 36, 283955)"
      ]
     },
     "execution_count": 8,
     "metadata": {},
     "output_type": "execute_result"
    }
   ],
   "source": [
    "datetime_object.today()"
   ]
  },
  {
   "cell_type": "code",
   "execution_count": 20,
   "metadata": {},
   "outputs": [
    {
     "name": "stdout",
     "output_type": "stream",
     "text": [
      "t3 = 1134 days, 0:00:00\n",
      "<class 'datetime.timedelta'>\n"
     ]
    }
   ],
   "source": [
    "t1 = date(year = 1977, month = 4, day = 13)\n",
    "t2 = date(year = 1974, month = 3, day = 6)\n",
    "t3 = t1 - t2\n",
    "print(\"t3 =\", t3)\n",
    "print(type(t3))"
   ]
  },
  {
   "cell_type": "code",
   "execution_count": 9,
   "metadata": {},
   "outputs": [
    {
     "name": "stdout",
     "output_type": "stream",
     "text": [
      "17:47:16.829219\n"
     ]
    }
   ],
   "source": [
    "print(datetime_object.time())"
   ]
  },
  {
   "cell_type": "code",
   "execution_count": 11,
   "metadata": {},
   "outputs": [],
   "source": [
    "today=datetime.today()"
   ]
  },
  {
   "cell_type": "code",
   "execution_count": 12,
   "metadata": {},
   "outputs": [
    {
     "data": {
      "text/plain": [
       "datetime.datetime(2019, 5, 7, 17, 48, 10, 921815)"
      ]
     },
     "execution_count": 12,
     "metadata": {},
     "output_type": "execute_result"
    }
   ],
   "source": [
    "today"
   ]
  },
  {
   "cell_type": "code",
   "execution_count": 13,
   "metadata": {},
   "outputs": [
    {
     "data": {
      "text/plain": [
       "'Tuesday'"
      ]
     },
     "execution_count": 13,
     "metadata": {},
     "output_type": "execute_result"
    }
   ],
   "source": [
    "today.strftime('%A')"
   ]
  },
  {
   "cell_type": "code",
   "execution_count": 14,
   "metadata": {},
   "outputs": [
    {
     "name": "stdout",
     "output_type": "stream",
     "text": [
      "Tuesday\n"
     ]
    }
   ],
   "source": [
    "print(today.strftime('%A %B %Y').split(' ')[0])"
   ]
  },
  {
   "cell_type": "markdown",
   "metadata": {},
   "source": [
    "### Query Set"
   ]
  },
  {
   "cell_type": "code",
   "execution_count": 8,
   "metadata": {},
   "outputs": [],
   "source": [
    "elist=Expense.objects.all()"
   ]
  },
  {
   "cell_type": "markdown",
   "metadata": {},
   "source": [
    "### Exporting expense data to regular file"
   ]
  },
  {
   "cell_type": "code",
   "execution_count": 9,
   "metadata": {},
   "outputs": [],
   "source": [
    "file = open('inputs.txt','w')\n",
    "for exp in elist:\n",
    "    detail=exp.detail.replace(\"\\r\\n\",\" \",4)\n",
    "    line=exp.edate.strftime('%F')+'::'+str(exp.amount)+'::'+exp.currency+'::'+exp.title+'::'+detail\n",
    "    file.write(line+\"\\n\")\n",
    "file.close()"
   ]
  },
  {
   "cell_type": "code",
   "execution_count": 13,
   "metadata": {},
   "outputs": [],
   "source": [
    "fh=open('input.txt','r')"
   ]
  },
  {
   "cell_type": "code",
   "execution_count": 14,
   "metadata": {},
   "outputs": [],
   "source": [
    "items=fh.readlines()"
   ]
  },
  {
   "cell_type": "code",
   "execution_count": 26,
   "metadata": {},
   "outputs": [
    {
     "name": "stdout",
     "output_type": "stream",
     "text": [
      "Migros Cikolata Pesto Tortellini\n",
      "Et\n",
      "Starbucks Coffee Mugla\n",
      "KoycegizNet Kurulum 450 1 ay internet 50\n",
      "Iphone car charge\n",
      "Sile donus yolu Mehmet Zengin kofteci\n",
      "Sile'den donus Starbucks coffee + cekirdek coffee\n",
      "Pamukkale  Koycegiz/Istanbul Duster icin Sile'ye gittim\n",
      "Carrefour Pil Peynir Temizlik Malzemesi\n",
      "Et\n",
      "Carrefour Peynir Abur cubur\n",
      "Veteriner Makbule\n",
      "Bir cuval cinko\n",
      "1 Cuval kukurt\n",
      "Duster Bakim 11412km Sonraki bakim 31412 ya da 26.12.2019\n",
      "Duster Expertise\n",
      "Got Duster\n",
      "HGS for Duster\n",
      "Duster Noter Satis\n",
      "Muhammet Gubreleri dagittti. 14 yere\n",
      "Kepce  Eray 1.5 saat calisti. 14 cukur kazdi.\n",
      "Book Yilmaz Ozdil Cocuk serisi\n",
      "Kardelen Pide Umutlar bizdeydi\n",
      "Pazar + Gozleme\n",
      "Duster 6 tl/l 41.345 l 10481km\n",
      "Duster  6.1 tl/l 48.865 lt 11240 km\n",
      "Duster Sigorta\n",
      "Migros Kahve Cikolata\n",
      "Gokturk Tutun Kagit Filtre\n",
      "Koycegiz/Istanbul Kofteci Gurluoglu\n",
      "Duster 5.79 tl/l 53.550 l\n",
      "Uniq 3 cocuk kitabi\n",
      "Melekeli Pogca\n",
      "Pelum\n",
      "Fatma Ablalar Pogca simit\n",
      "Orkid\n",
      "Istanbul Akvaryum Ela ve Memet\n",
      "Edirne Cigercisi Gozcu sonrasi\n",
      "Istanbul Akvaryum Otopark\n",
      "Duster 47.790 l 773.7 km 5.86 12715\n",
      "Jeep Gas\n",
      "Dis Niyazi\n",
      "Carrefour\n",
      "Feribot Topcular\n",
      "Plum\n",
      "Sariyer Market\n",
      "Remzi Kitabevi\n",
      "Remzi Kitabevi\n",
      "Atlas Kirtasiye\n",
      "Ortaca\n",
      "Dogru Kasap\n",
      "Ada Eczanesi Kilyos yolu\n",
      "Carrefour\n",
      "Balikci\n",
      "Duster icin telefon aparati\n",
      "Sariyer'de biryer\n",
      "Fethiye Community Festival\n",
      "Saharlare sarap\n",
      "Saharlara giderken borek\n",
      "Elif with friends , Mis Pizza\n",
      "3 paket Karelias\n",
      "Zeki Abi\n",
      "Hatice sut yumurta tereyag\n",
      "Kofteci Dede\n",
      "D&R Barbie\n",
      "Starbucks\n",
      "Susurluk Peyniri\n",
      "Migros Peynir Abur cubur\n",
      "Duster 53.730 l 6.180 13595 km 139.8 km\n",
      "Feristah\n",
      "Duster 13.93 lt 6.10 tl/lt 13454 km 739.5\n",
      "Kiyma\n",
      "Bolu Sofrasi\n",
      "Esralardan Saharlere giderken Opetten borek\n",
      "Antrikot\n",
      "Carrefour Pil Abur Cubur Peynir\n",
      "Bahce\n",
      "Bahce\n",
      "Bahce 4 ay\n",
      "TTNet\n",
      "D3\n",
      "Telekom\n",
      "Ecenin Mutfagi\n",
      "Ela araba koltugu\n",
      "Mooji\n",
      "Sucu\n",
      "Odur Budur\n",
      "Koycegiz lokantasi x2\n",
      "Akyaka\n",
      "Akyaka Cinar Restaurant Yemekler guzeldi\n",
      "Carrefour\n",
      "Carrefour\n",
      "Carrefour\n",
      "Meyve Sebze\n",
      "Kasap\n",
      "bonfile pirzola\n",
      "Feristah Abla  Sut yumurta\n",
      "Battaniye yikama\n",
      "Et\n",
      "Makbule Veteriner\n",
      "Balikci\n",
      "Akyaka\n",
      "Akyaka Balikci\n",
      "Elif Kuru Temizleme\n",
      "Meyve Peynir\n",
      "Koycegiz lokantasi\n",
      "Elif Ucak Ist>Dal\n",
      "Yoga Salincak\n",
      "Carrefour\n",
      "Kasikla resto\n",
      "Kasikla resto\n",
      "55.65 l 6.2 tl/l 830 km  14426km\n",
      "Sinek8 Sonyanin tavuklari\n",
      "Ece'nin mutfagi\n",
      "Kiyma\n",
      "Migros\n",
      "Carrefour\n"
     ]
    }
   ],
   "source": [
    "for line in items:\n",
    "    exp=line.split(\"::\")\n",
    "    print(exp[4][:-1])"
   ]
  },
  {
   "cell_type": "code",
   "execution_count": 12,
   "metadata": {},
   "outputs": [],
   "source": [
    "fh.close()"
   ]
  },
  {
   "cell_type": "markdown",
   "metadata": {},
   "source": [
    "### How many expense items"
   ]
  },
  {
   "cell_type": "code",
   "execution_count": 104,
   "metadata": {},
   "outputs": [
    {
     "name": "stdout",
     "output_type": "stream",
     "text": [
      "117\n"
     ]
    }
   ],
   "source": [
    "read_file=open('input.txt','r')\n",
    "c=0\n",
    "for line in read_file:\n",
    "    c+=1\n",
    "    #print(line.split('::'))\n",
    "print(c)\n",
    "rfile.close()"
   ]
  },
  {
   "cell_type": "markdown",
   "metadata": {},
   "source": [
    "### Titles"
   ]
  },
  {
   "cell_type": "code",
   "execution_count": 82,
   "metadata": {},
   "outputs": [
    {
     "name": "stdout",
     "output_type": "stream",
     "text": [
      "Titles: {'Travel', 'Tobacco', 'Electricity', 'Entertainment', 'Stationary', 'Tools', 'Media', 'Equipment', 'Market', 'Toy', 'Otopark', 'Engines', 'Cleaning', 'Pazar', 'ManPower', 'Oil', 'Kasap', 'Internet', 'Health', 'Food', 'Toprak', 'tobacco', 'E-parts', 'Drug', 'Book'}\n",
      "\n"
     ]
    }
   ],
   "source": [
    "elist=Expense.objects.all()\n",
    "titles=set()\n",
    "for exp in elist:\n",
    "    titles.add(exp.title)\n",
    "print(f'Titles: {titles}\\n')"
   ]
  },
  {
   "cell_type": "code",
   "execution_count": 83,
   "metadata": {},
   "outputs": [
    {
     "name": "stdout",
     "output_type": "stream",
     "text": [
      "Title/Date      December         January         February\n",
      "--------------------------------------------------------------\n",
      "Travel          130.00    (1) \t 55.00     (1) \t 120.00    (1)\n",
      "Tobacco         0         (0) \t 105.00    (2) \t 60.00     (1)\n",
      "Electricity     0         (0) \t 54.70     (1) \t 0         (0)\n",
      "Entertainment   169.25    (4) \t 760.45    (14) \t 500.00    (7)\n",
      "Stationary      0         (0) \t 0         (0) \t 0         (0)\n",
      "Tools           0         (0) \t 800.00    (1) \t 0         (0)\n",
      "Media           100.00    (1) \t 0         (0) \t 0         (0)\n",
      "Equipment       0         (0) \t 0         (0) \t 265.00    (1)\n",
      "Market          109.07    (2) \t 744.43    (8) \t 464.02    (3)\n",
      "Toy             0         (0) \t 75.15     (1) \t 0         (0)\n",
      "Otopark         0         (0) \t 5.00      (1) \t 0         (0)\n",
      "Engines         85006.64  (6) \t 0         (0) \t 0         (0)\n",
      "Cleaning        0         (0) \t 0         (0) \t 90.00     (2)\n",
      "Pazar           80.00     (1) \t 250.00    (1) \t 250.00    (2)\n",
      "ManPower        116.05    (1) \t 400.00    (1) \t 0         (0)\n",
      "Oil             727.74    (3) \t 1007.15   (4) \t 345.03    (1)\n",
      "Kasap           97.00     (3) \t 115.00    (3) \t 204.00    (3)\n",
      "Internet        500.00    (1) \t 104.75    (2) \t 0         (0)\n",
      "Health          107.00    (1) \t 995.00    (3) \t 0         (0)\n",
      "Food            0         (0) \t 60.00     (2) \t 65.00     (1)\n",
      "Toprak          530.00    (4) \t 0         (0) \t 0         (0)\n",
      "tobacco         0         (0) \t 0         (0) \t 75.00     (1)\n",
      "E-parts         40.00     (1) \t 58.00     (1) \t 0         (0)\n",
      "Drug            0         (0) \t 146.50    (4) \t 0         (0)\n",
      "Book            0         (0) \t 179.55    (3) \t 30.00     (1)\n",
      "----------------------------------------------------------------\n",
      "Total          87712.8           5915.7           2468.0\n"
     ]
    }
   ],
   "source": [
    "print(f'Title/Date      December         January         February')\n",
    "print(f'--------------------------------------------------------------')\n",
    "for title in titles:\n",
    "    t12=Expense.objects.filter(title=title,edate__month=12)\n",
    "    t1=Expense.objects.filter(title=title,edate__month=1)\n",
    "    t2=Expense.objects.filter(title=title,edate__month=2)\n",
    "    c12=0\n",
    "    c1=0\n",
    "    c2=0\n",
    "    for exp in t12:\n",
    "        c12+=exp.amount\n",
    "    for exp in t1:\n",
    "        c1+=exp.amount\n",
    "    for exp in t2:\n",
    "        c2+=exp.amount\n",
    "    print(f'{title:15} {c12:<10}({t12.count()}) \\t {c1:<10}({t1.count()}) \\t {c2:<10}({t2.count()})')\n",
    "totaldec=Expense.objects.filter(edate__month=12).aggregate(Sum('amount'))['amount__sum']\n",
    "totaljan=Expense.objects.filter(edate__month=1).aggregate(Sum('amount'))['amount__sum']\n",
    "totalfeb=Expense.objects.filter(edate__month=2).aggregate(Sum('amount'))['amount__sum']\n",
    "print(f'----------------------------------------------------------------')\n",
    "print(f'Total {totaldec:16.6} {totaljan:16.5} {totalfeb:16.5}')"
   ]
  },
  {
   "cell_type": "markdown",
   "metadata": {},
   "source": [
    "## Year Based Table"
   ]
  },
  {
   "cell_type": "code",
   "execution_count": 84,
   "metadata": {},
   "outputs": [],
   "source": [
    "queries={}\n",
    "amounts=[]\n",
    "for i in range(1,13):\n",
    "    c=0\n",
    "    for exp in Expense.objects.filter(edate__year=2018,edate__month=i):\n",
    "        c+=exp.amount\n",
    "    amounts.append(c)\n",
    "    queries[i]=amounts"
   ]
  },
  {
   "cell_type": "code",
   "execution_count": 85,
   "metadata": {},
   "outputs": [],
   "source": [
    "queries={}\n",
    "for i in range(1,13):\n",
    "    c=0\n",
    "    for exp in Expense.objects.filter(edate__year=2019,edate__month=i):\n",
    "        c+=exp.amount\n",
    "        queries[i]=c"
   ]
  },
  {
   "cell_type": "code",
   "execution_count": 86,
   "metadata": {},
   "outputs": [
    {
     "name": "stdout",
     "output_type": "stream",
     "text": [
      "1 5915.68\n",
      "2 2468.05\n",
      "3 226.44\n"
     ]
    }
   ],
   "source": [
    "for key,value in queries.items():\n",
    "    print(f'{key} {value}')"
   ]
  },
  {
   "cell_type": "markdown",
   "metadata": {},
   "source": [
    "### List queryset"
   ]
  },
  {
   "cell_type": "code",
   "execution_count": 87,
   "metadata": {},
   "outputs": [
    {
     "name": "stdout",
     "output_type": "stream",
     "text": [
      "2018/12   Market                 56.15 tl\n",
      "2018/12   Kasap                  45.00 tl\n",
      "2018/12   Entertainment          20.75 tl\n",
      "2018/12   Internet              500.00 tl\n",
      "2018/12   E-parts                40.00 tl\n",
      "2018/12   Entertainment          29.00 tl\n",
      "2018/12   Entertainment          39.50 tl\n",
      "2018/12   Travel                130.00 tl\n",
      "2018/11   Market                 86.45 tl\n",
      "2018/11   Kasap                  69.00 tl\n",
      "2018/11   Market                123.85 tl\n",
      "2018/12   Health                107.00 tl\n",
      "2018/12   Toprak                115.00 tl\n",
      "2018/12   Toprak                 65.00 tl\n",
      "2018/12   Engines               858.44 tl\n",
      "2018/12   Engines               250.00 tl\n",
      "2018/12   Engines             82500.00 tl\n",
      "2018/12   Engines               200.00 tl\n",
      "2018/12   Engines               180.00 tl\n",
      "2018/12   Toprak                100.00 tl\n",
      "2018/12   Toprak                250.00 tl\n",
      "2018/12   Media                 100.00 tl\n",
      "2018/12   Entertainment          80.00 tl\n",
      "2018/12   Pazar                  80.00 tl\n",
      "2018/12   Oil                   248.04 tl\n",
      "2018/12   Oil                   298.05 tl\n",
      "2018/12   Engines              1018.20 tl\n",
      "2019/1    Market                 59.15 tl\n",
      "2019/1    Tobacco                35.00 tl\n",
      "2019/1    Entertainment         100.00 tl\n",
      "2019/1    Oil                   310.05 tl\n",
      "2019/1    Book                   33.00 tl\n",
      "2019/1    Entertainment          14.00 tl\n",
      "2019/1    Drug                   35.00 tl\n",
      "2019/1    Entertainment          16.00 tl\n",
      "2019/1    Drug                    8.00 tl\n",
      "2019/1    Entertainment          85.00 tl\n",
      "2019/1    Entertainment          40.00 tl\n",
      "2019/1    Otopark                 5.00 tl\n",
      "2019/1    Oil                   280.05 tl\n",
      "2018/12   Oil                   181.65 tl\n",
      "2019/1    Health                750.00 tl\n",
      "2018/12   Market                 52.92 tl\n",
      "2019/1    Travel                 55.00 tl\n",
      "2019/1    Drug                   44.50 tl\n",
      "2019/1    Market                158.92 tl\n",
      "2019/1    Book                   48.90 tl\n",
      "2019/1    Book                   97.65 tl\n",
      "2018/11   Stationary             37.50 tl\n",
      "2018/11   Tobacco                74.50 tl\n",
      "2018/12   Kasap                  27.00 tl\n",
      "2019/1    Drug                   59.00 tl\n",
      "2018/11   Market                 80.35 tl\n",
      "2018/12   Kasap                  25.00 tl\n",
      "2019/1    E-parts                58.00 tl\n",
      "2019/1    Market                 26.73 tl\n",
      "2018/11   Entertainment         160.00 tl\n",
      "2019/1    Entertainment          50.00 tl\n",
      "2019/1    Entertainment          25.00 tl\n",
      "2019/1    Entertainment         100.00 tl\n",
      "2019/1    Tobacco                70.00 tl\n",
      "2019/1    Health                185.00 tl\n",
      "2019/1    Food                   50.00 tl\n",
      "2019/1    Entertainment          69.00 tl\n",
      "2019/1    Toy                    75.15 tl\n",
      "2019/1    Entertainment          47.75 tl\n",
      "2019/1    Market                 22.10 tl\n",
      "2019/1    Market                 42.15 tl\n",
      "2019/1    Oil                   332.05 tl\n",
      "2019/1    ManPower              400.00 tl\n",
      "2019/1    Oil                    85.00 tl\n",
      "2019/1    Kasap                  21.00 tl\n",
      "2019/1    Entertainment          63.50 tl\n",
      "2019/1    Entertainment          22.20 tl\n",
      "2019/1    Kasap                  41.00 tl\n",
      "2019/1    Market                129.59 tl\n",
      "2018/7    Internet               50.00 tl\n",
      "2018/8    Internet               50.00 tl\n",
      "2018/9    Internet              200.00 tl\n",
      "2019/1    Internet               78.75 tl\n",
      "2019/1    Electricity            54.70 tl\n",
      "2019/1    Internet               26.00 tl\n",
      "2019/1    Entertainment          28.00 tl\n",
      "2019/1    Tools                 800.00 tl\n",
      "2018/12   ManPower              116.05 tl\n",
      "2019/1    Food                   10.00 tl\n",
      "2019/2    Pazar                 120.00 tl\n",
      "2019/2    Entertainment          25.00 tl\n",
      "2019/2    Tobacco                60.00 tl\n",
      "2019/2    Entertainment         235.00 tl\n",
      "2019/1    Market                 83.05 tl\n",
      "2019/2    Market                 83.73 tl\n",
      "2019/1    Market                222.74 tl\n",
      "2019/1    Pazar                 250.00 tl\n",
      "2019/1    Entertainment         100.00 tl\n",
      "2019/2    Kasap                  60.00 tl\n",
      "2019/2    Food                   65.00 tl\n",
      "2019/2    Cleaning               15.00 tl\n",
      "2019/2    Kasap                  99.00 tl\n",
      "2019/1    Health                 60.00 tl\n",
      "2019/1    Kasap                  53.00 tl\n",
      "2019/2    tobacco                75.00 tl\n",
      "2019/2    Entertainment          55.00 tl\n",
      "2019/2    Cleaning               75.00 tl\n",
      "2019/2    Pazar                 130.00 tl\n",
      "2019/2    Entertainment          50.00 tl\n",
      "2019/2    Travel                120.00 tl\n",
      "2019/2    Equipment             265.00 tl\n",
      "2019/2    Market                164.36 tl\n",
      "2019/2    Entertainment          50.00 tl\n",
      "2019/2    Entertainment          50.00 tl\n",
      "2019/2    Oil                   345.03 tl\n",
      "2019/2    Book                   30.00 tl\n",
      "2019/2    Entertainment          35.00 tl\n",
      "2019/2    Kasap                  45.00 tl\n",
      "2019/2    Market                215.93 tl\n",
      "2019/3    Market                226.44 tl\n",
      "97254.57\n",
      "There are 117 expense items.\n"
     ]
    }
   ],
   "source": [
    "count=0\n",
    "for exp in elist:\n",
    "    print(f'{exp.edate.year}/{exp.edate.month:<4} {exp.title:<20}{exp.amount:>8} {exp.currency}')\n",
    "    count+=exp.amount\n",
    "print(count)\n",
    "print(f'There are {Expense.objects.count()} expense items.')"
   ]
  },
  {
   "cell_type": "markdown",
   "metadata": {},
   "source": [
    "### Filter Queryset"
   ]
  },
  {
   "cell_type": "code",
   "execution_count": 88,
   "metadata": {},
   "outputs": [
    {
     "name": "stdout",
     "output_type": "stream",
     "text": [
      "Travel               \t 305.00\n",
      "Tobacco              \t 239.50\n",
      "Electricity          \t 54.70\n",
      "Entertainment        \t 1589.70\n",
      "Stationary           \t 37.50\n",
      "Tools                \t 800.00\n",
      "Media                \t 100.00\n",
      "Equipment            \t 265.00\n",
      "Market               \t 1834.61\n",
      "Toy                  \t 75.15\n",
      "Otopark              \t 5.00\n",
      "Engines              \t 85006.64\n",
      "Cleaning             \t 90.00\n",
      "Pazar                \t 580.00\n",
      "ManPower             \t 516.05\n",
      "Oil                  \t 2079.92\n",
      "Kasap                \t 485.00\n",
      "Internet             \t 904.75\n",
      "Health               \t 1102.00\n",
      "Food                 \t 125.00\n",
      "Toprak               \t 530.00\n",
      "tobacco              \t 75.00\n",
      "E-parts              \t 98.00\n",
      "Drug                 \t 146.50\n",
      "Book                 \t 209.55\n"
     ]
    }
   ],
   "source": [
    "for title in titles:\n",
    "    count=0\n",
    "    for exp in elist:\n",
    "        if exp.title==title:\n",
    "            count+=exp.amount\n",
    "    print(f'{title:20} \\t {count}')"
   ]
  },
  {
   "cell_type": "code",
   "execution_count": 89,
   "metadata": {},
   "outputs": [
    {
     "name": "stdout",
     "output_type": "stream",
     "text": [
      "Friday December 2018\n",
      "Friday December 2018\n",
      "Thursday December 2018\n",
      "Thursday December 2018\n",
      "Thursday December 2018\n",
      "Thursday December 2018\n",
      "Thursday December 2018\n",
      "Wednesday December 2018\n",
      "Tuesday November 2018\n",
      "Tuesday November 2018\n",
      "Sunday November 2018\n",
      "Monday December 2018\n",
      "Saturday December 2018\n",
      "Saturday December 2018\n",
      "Thursday December 2018\n",
      "Thursday December 2018\n",
      "Thursday December 2018\n",
      "Thursday December 2018\n",
      "Thursday December 2018\n",
      "Saturday December 2018\n",
      "Saturday December 2018\n",
      "Saturday December 2018\n",
      "Sunday December 2018\n",
      "Monday December 2018\n",
      "Thursday December 2018\n",
      "Tuesday December 2018\n",
      "Friday December 2018\n",
      "Tuesday January 2019\n",
      "Thursday January 2019\n",
      "Wednesday January 2019\n",
      "Wednesday January 2019\n",
      "Thursday January 2019\n",
      "Thursday January 2019\n",
      "Thursday January 2019\n",
      "Saturday January 2019\n",
      "Saturday January 2019\n",
      "Thursday January 2019\n",
      "Thursday January 2019\n",
      "Thursday January 2019\n",
      "Sunday January 2019\n",
      "Monday December 2018\n",
      "Wednesday January 2019\n",
      "Thursday December 2018\n",
      "Wednesday January 2019\n",
      "Monday January 2019\n",
      "Monday January 2019\n",
      "Saturday January 2019\n",
      "Saturday January 2019\n",
      "Monday November 2018\n",
      "Tuesday November 2018\n",
      "Sunday December 2018\n",
      "Monday January 2019\n",
      "Tuesday November 2018\n",
      "Friday December 2018\n",
      "Thursday January 2019\n",
      "Tuesday January 2019\n",
      "Saturday November 2018\n",
      "Tuesday January 2019\n",
      "Tuesday January 2019\n",
      "Monday January 2019\n",
      "Monday January 2019\n",
      "Wednesday January 2019\n",
      "Sunday January 2019\n",
      "Friday January 2019\n",
      "Wednesday January 2019\n",
      "Friday January 2019\n",
      "Friday January 2019\n",
      "Saturday January 2019\n",
      "Friday January 2019\n",
      "Tuesday January 2019\n",
      "Friday January 2019\n",
      "Wednesday January 2019\n",
      "Friday January 2019\n",
      "Wednesday January 2019\n",
      "Sunday January 2019\n",
      "Sunday January 2019\n",
      "Monday July 2018\n",
      "Monday August 2018\n",
      "Tuesday September 2018\n",
      "Monday January 2019\n",
      "Wednesday January 2019\n",
      "Tuesday January 2019\n",
      "Tuesday January 2019\n",
      "Tuesday January 2019\n",
      "Wednesday December 2018\n",
      "Thursday January 2019\n",
      "Monday February 2019\n",
      "Monday February 2019\n",
      "Sunday February 2019\n",
      "Sunday February 2019\n",
      "Thursday January 2019\n",
      "Sunday February 2019\n",
      "Friday January 2019\n",
      "Monday January 2019\n",
      "Monday January 2019\n",
      "Thursday February 2019\n",
      "Saturday February 2019\n",
      "Saturday February 2019\n",
      "Saturday February 2019\n",
      "Thursday January 2019\n",
      "Thursday January 2019\n",
      "Friday February 2019\n",
      "Friday February 2019\n",
      "Friday February 2019\n",
      "Monday February 2019\n",
      "Monday February 2019\n",
      "Tuesday February 2019\n",
      "Tuesday February 2019\n",
      "Sunday February 2019\n",
      "Saturday February 2019\n",
      "Thursday February 2019\n",
      "Saturday February 2019\n",
      "Saturday February 2019\n",
      "Wednesday February 2019\n",
      "Wednesday February 2019\n",
      "Saturday February 2019\n",
      "Friday March 2019\n"
     ]
    }
   ],
   "source": [
    "for exp in elist:\n",
    "    print(exp.edate.strftime('%A %B %Y'))"
   ]
  },
  {
   "cell_type": "code",
   "execution_count": 90,
   "metadata": {},
   "outputs": [],
   "source": [
    "def read_csv_file(filename):\n",
    "    \"\"\"Reads a CSV file and return it as a list of rows.\"\"\"\n",
    "    data = []\n",
    "    reader=csv.reader(open(filename))\n",
    "    for row in reader:\n",
    "        data.append(row)\n",
    "    return data"
   ]
  },
  {
   "cell_type": "markdown",
   "metadata": {},
   "source": [
    "# USD Rates\n",
    "rates_16={\n",
    "    'january': '2.930',\n",
    "}\n",
    "rates_15={\n",
    "    'january': '2.343',\n",
    "    'february': '2.439',\n",
    "    'march': '2.553',\n",
    "    'april':'2.671',\n",
    "    'may':'2.704',\n",
    "    'june':'2.709',\n",
    "    'july':'2.770',\n",
    "    'august':'2.914',\n",
    "    'september':'3.014',\n",
    "    'october':'2.275',\n",
    "    'november':'2.871',\n",
    "    'december':'2.920'\n",
    "}\n",
    "rates_14={\n",
    "    'january': '2.165',\n",
    "    'february': '2.220',\n",
    "    'march': '2.241',\n",
    "    'april':'2.122',\n",
    "    'may':'2.122',\n",
    "    'june':'2.082',\n",
    "    'july':'2.122',\n",
    "    'august':'2.153',\n",
    "    'september':'2.164',\n",
    "    'october':'2.477',\n",
    "    'november':'2.218',\n",
    "    'december':'2.310'\n",
    "}"
   ]
  }
 ],
 "metadata": {
  "kernelspec": {
   "display_name": "Django Shell-Plus",
   "language": "python",
   "name": "django_extensions"
  },
  "language_info": {
   "codemirror_mode": {
    "name": "ipython",
    "version": 3
   },
   "file_extension": ".py",
   "mimetype": "text/x-python",
   "name": "python",
   "nbconvert_exporter": "python",
   "pygments_lexer": "ipython3",
   "version": "3.7.0"
  }
 },
 "nbformat": 4,
 "nbformat_minor": 2
}
