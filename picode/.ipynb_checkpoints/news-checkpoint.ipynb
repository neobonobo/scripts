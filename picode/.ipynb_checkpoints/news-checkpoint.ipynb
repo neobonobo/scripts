{
 "cells": [
  {
   "cell_type": "code",
   "execution_count": 1,
   "metadata": {},
   "outputs": [],
   "source": [
    "from django.db import models"
   ]
  },
  {
   "cell_type": "code",
   "execution_count": 2,
   "metadata": {},
   "outputs": [],
   "source": [
    "import feedparser"
   ]
  },
  {
   "cell_type": "code",
   "execution_count": 2,
   "metadata": {},
   "outputs": [],
   "source": [
    "import os,time,datetime,json"
   ]
  },
  {
   "cell_type": "code",
   "execution_count": 3,
   "metadata": {},
   "outputs": [
    {
     "name": "stdout",
     "output_type": "stream",
     "text": [
      "Updated 170 hour 53 minutes before\n"
     ]
    }
   ],
   "source": [
    "today=datetime.datetime.now()\n",
    "last_update_time=datetime.datetime.fromtimestamp(os.path.getmtime(\"rt_data\"))\n",
    "seconds=(today-last_update_time).total_seconds()\n",
    "m, s = divmod(seconds, 60)\n",
    "h, m = divmod(m, 60)\n",
    "print(\"Updated %d hour %02d minutes before\" % (h, m))"
   ]
  },
  {
   "cell_type": "code",
   "execution_count": 82,
   "metadata": {},
   "outputs": [
    {
     "data": {
      "text/plain": [
       "11590.566025"
      ]
     },
     "execution_count": 82,
     "metadata": {},
     "output_type": "execute_result"
    }
   ],
   "source": [
    "seconds"
   ]
  },
  {
   "cell_type": "code",
   "execution_count": 71,
   "metadata": {},
   "outputs": [],
   "source": [
    "# Fetch data and write as rt_data\n",
    "feeds = feedparser.parse('https://www.rt.com/rss/')\n",
    "#feedsjson=json.dumps(feeds)\n",
    "with open('rt_data','w') as outfile:\n",
    "    json.dump(feeds.entries,outfile)"
   ]
  },
  {
   "cell_type": "code",
   "execution_count": 72,
   "metadata": {},
   "outputs": [],
   "source": [
    "with open('rt_data','r') as json_file:\n",
    "    feeds1=json.loads(json_file.read())"
   ]
  },
  {
   "cell_type": "code",
   "execution_count": 100,
   "metadata": {},
   "outputs": [
    {
     "data": {
      "text/plain": [
       "[{'title': 'Drone footage shows emergency landing site of bird-stricken Ural Airlines plane',\n",
       "  'title_detail': {'type': 'text/plain',\n",
       "   'language': None,\n",
       "   'base': 'https://www.rt.com/rss/',\n",
       "   'value': 'Drone footage shows emergency landing site of bird-stricken Ural Airlines plane'},\n",
       "  'links': [{'rel': 'alternate',\n",
       "    'type': 'text/html',\n",
       "    'href': 'https://www.rt.com/russia/466540-drone-footage-crash-landing-site/?utm_source=rss&utm_medium=rss&utm_campaign=RSS'},\n",
       "   {'type': 'image/jpeg',\n",
       "    'length': '123',\n",
       "    'href': 'https://cdni-rt.secure2.footprint.net/files/2019.08/thumbnail/5d551588dda4c875288b4579.JPG',\n",
       "    'rel': 'enclosure'}],\n",
       "  'link': 'https://www.rt.com/russia/466540-drone-footage-crash-landing-site/?utm_source=rss&utm_medium=rss&utm_campaign=RSS',\n",
       "  'id': 'https://www.rt.com/russia/466540-drone-footage-crash-landing-site/',\n",
       "  'guidislink': False,\n",
       "  'summary': '<img alt=\"Preview\" align=\"left\" style=\"margin-right: 10px;\" src=\"https://cdni-rt.secure2.footprint.net/files/2019.08/thumbnail/5d551588dda4c875288b4579.JPG\" /> Drone footage shows emergency landing site of a Russian passenger plane with more than 230 people on board after it had a bumpy touchdown in a cornfield outside Moscow’s Zhukovsky Airport. <br/><a href=\"https://www.rt.com/russia/466540-drone-footage-crash-landing-site/?utm_source=rss&utm_medium=rss&utm_campaign=RSS\">Read Full Article at RT.com</a>',\n",
       "  'summary_detail': {'type': 'text/html',\n",
       "   'language': None,\n",
       "   'base': 'https://www.rt.com/rss/',\n",
       "   'value': '<img alt=\"Preview\" align=\"left\" style=\"margin-right: 10px;\" src=\"https://cdni-rt.secure2.footprint.net/files/2019.08/thumbnail/5d551588dda4c875288b4579.JPG\" /> Drone footage shows emergency landing site of a Russian passenger plane with more than 230 people on board after it had a bumpy touchdown in a cornfield outside Moscow’s Zhukovsky Airport. <br/><a href=\"https://www.rt.com/russia/466540-drone-footage-crash-landing-site/?utm_source=rss&utm_medium=rss&utm_campaign=RSS\">Read Full Article at RT.com</a>'},\n",
       "  'published': 'Thu, 15 Aug 2019 08:26:00 +0000',\n",
       "  'published_parsed': time.struct_time(tm_year=2019, tm_mon=8, tm_mday=15, tm_hour=8, tm_min=26, tm_sec=0, tm_wday=3, tm_yday=227, tm_isdst=0),\n",
       "  'authors': [{'name': 'RT'}],\n",
       "  'author': 'RT',\n",
       "  'author_detail': {'name': 'RT'}},\n",
       " {'title': 'Russian airliner with 233 onboard suffers birdstrike, makes BELLY LANDING near Moscow (VIDEO)',\n",
       "  'title_detail': {'type': 'text/plain',\n",
       "   'language': None,\n",
       "   'base': 'https://www.rt.com/rss/',\n",
       "   'value': 'Russian airliner with 233 onboard suffers birdstrike, makes BELLY LANDING near Moscow (VIDEO)'},\n",
       "  'links': [{'rel': 'alternate',\n",
       "    'type': 'text/html',\n",
       "    'href': 'https://www.rt.com/russia/466524-plane-emergency-landing-moscow/?utm_source=rss&utm_medium=rss&utm_campaign=RSS'},\n",
       "   {'type': 'image/jpeg',\n",
       "    'length': '123',\n",
       "    'href': 'https://cdni-rt.secure2.footprint.net/files/2019.08/thumbnail/5d55164adda4c81c618b45fe.jpg',\n",
       "    'rel': 'enclosure'}],\n",
       "  'link': 'https://www.rt.com/russia/466524-plane-emergency-landing-moscow/?utm_source=rss&utm_medium=rss&utm_campaign=RSS',\n",
       "  'id': 'https://www.rt.com/russia/466524-plane-emergency-landing-moscow/',\n",
       "  'guidislink': False,\n",
       "  'summary': '<img alt=\"Preview\" align=\"left\" style=\"margin-right: 10px;\" src=\"https://cdni-rt.secure2.footprint.net/files/2019.08/thumbnail/5d55164adda4c81c618b45fe.jpg\" /> A narrow-body airliner operated by Russia’s Ural Airlines and carrying 226 passengers and seven crew, landed with its wheels up in the countryside near Moscow after suffering a \"rare\" birdstrike. <br/><a href=\"https://www.rt.com/russia/466524-plane-emergency-landing-moscow/?utm_source=rss&utm_medium=rss&utm_campaign=RSS\">Read Full Article at RT.com</a>',\n",
       "  'summary_detail': {'type': 'text/html',\n",
       "   'language': None,\n",
       "   'base': 'https://www.rt.com/rss/',\n",
       "   'value': '<img alt=\"Preview\" align=\"left\" style=\"margin-right: 10px;\" src=\"https://cdni-rt.secure2.footprint.net/files/2019.08/thumbnail/5d55164adda4c81c618b45fe.jpg\" /> A narrow-body airliner operated by Russia’s Ural Airlines and carrying 226 passengers and seven crew, landed with its wheels up in the countryside near Moscow after suffering a \"rare\" birdstrike. <br/><a href=\"https://www.rt.com/russia/466524-plane-emergency-landing-moscow/?utm_source=rss&utm_medium=rss&utm_campaign=RSS\">Read Full Article at RT.com</a>'},\n",
       "  'published': 'Thu, 15 Aug 2019 05:30:00 +0000',\n",
       "  'published_parsed': time.struct_time(tm_year=2019, tm_mon=8, tm_mday=15, tm_hour=5, tm_min=30, tm_sec=0, tm_wday=3, tm_yday=227, tm_isdst=0),\n",
       "  'authors': [{'name': 'RT'}],\n",
       "  'author': 'RT',\n",
       "  'author_detail': {'name': 'RT'}},\n",
       " {'title': 'The Soul Sisters: Russia’s ‘most popular’ cheerleaders not fazed by dancing in cold summer weather',\n",
       "  'title_detail': {'type': 'text/plain',\n",
       "   'language': None,\n",
       "   'base': 'https://www.rt.com/rss/',\n",
       "   'value': 'The Soul Sisters: Russia’s ‘most popular’ cheerleaders not fazed by dancing in cold summer weather'},\n",
       "  'links': [{'rel': 'alternate',\n",
       "    'type': 'text/html',\n",
       "    'href': 'https://www.rt.com/sport/466480-soul-sisters-cheerleading-band-russia/?utm_source=rss&utm_medium=rss&utm_campaign=RSS'},\n",
       "   {'type': 'image/jpeg',\n",
       "    'length': '123',\n",
       "    'href': 'https://cdni-rt.secure2.footprint.net/files/2019.08/thumbnail/5d53f7eddda4c8974a8b458f.jpeg',\n",
       "    'rel': 'enclosure'}],\n",
       "  'link': 'https://www.rt.com/sport/466480-soul-sisters-cheerleading-band-russia/?utm_source=rss&utm_medium=rss&utm_campaign=RSS',\n",
       "  'id': 'https://www.rt.com/sport/466480-soul-sisters-cheerleading-band-russia/',\n",
       "  'guidislink': False,\n",
       "  'summary': '<img alt=\"Preview\" align=\"left\" style=\"margin-right: 10px;\" src=\"https://cdni-rt.secure2.footprint.net/files/2019.08/thumbnail/5d53f7eddda4c8974a8b458f.jpeg\" /> \\'The Soul Sisters\\', a professional cheerleading team which claims to be \\'Russia’s most popular\\', say they were unfazed while recently performing at Russia’s Beach Soccer Championship, despite temperatures hitting historical lows. <br/><a href=\"https://www.rt.com/sport/466480-soul-sisters-cheerleading-band-russia/?utm_source=rss&utm_medium=rss&utm_campaign=RSS\">Read Full Article at RT.com</a>',\n",
       "  'summary_detail': {'type': 'text/html',\n",
       "   'language': None,\n",
       "   'base': 'https://www.rt.com/rss/',\n",
       "   'value': '<img alt=\"Preview\" align=\"left\" style=\"margin-right: 10px;\" src=\"https://cdni-rt.secure2.footprint.net/files/2019.08/thumbnail/5d53f7eddda4c8974a8b458f.jpeg\" /> \\'The Soul Sisters\\', a professional cheerleading team which claims to be \\'Russia’s most popular\\', say they were unfazed while recently performing at Russia’s Beach Soccer Championship, despite temperatures hitting historical lows. <br/><a href=\"https://www.rt.com/sport/466480-soul-sisters-cheerleading-band-russia/?utm_source=rss&utm_medium=rss&utm_campaign=RSS\">Read Full Article at RT.com</a>'},\n",
       "  'published': 'Wed, 14 Aug 2019 13:31:00 +0000',\n",
       "  'published_parsed': time.struct_time(tm_year=2019, tm_mon=8, tm_mday=14, tm_hour=13, tm_min=31, tm_sec=0, tm_wday=2, tm_yday=226, tm_isdst=0),\n",
       "  'authors': [{'name': 'RT'}],\n",
       "  'author': 'RT',\n",
       "  'author_detail': {'name': 'RT'}},\n",
       " {'title': 'Kings of the sky: Pilots and gunners compete to find out whose skills are most awesome (PHOTOS)',\n",
       "  'title_detail': {'type': 'text/plain',\n",
       "   'language': None,\n",
       "   'base': 'https://www.rt.com/rss/',\n",
       "   'value': 'Kings of the sky: Pilots and gunners compete to find out whose skills are most awesome (PHOTOS)'},\n",
       "  'links': [{'rel': 'alternate',\n",
       "    'type': 'text/html',\n",
       "    'href': 'https://www.rt.com/russia/466474-aviadarts-military-aviation-russia/?utm_source=rss&utm_medium=rss&utm_campaign=RSS'},\n",
       "   {'type': 'image/jpeg',\n",
       "    'length': '123',\n",
       "    'href': 'https://cdni-rt.secure2.footprint.net/files/2019.08/thumbnail/5d53e6bcfc7e931e228b457b.jpg',\n",
       "    'rel': 'enclosure'}],\n",
       "  'link': 'https://www.rt.com/russia/466474-aviadarts-military-aviation-russia/?utm_source=rss&utm_medium=rss&utm_campaign=RSS',\n",
       "  'id': 'https://www.rt.com/russia/466474-aviadarts-military-aviation-russia/',\n",
       "  'guidislink': False,\n",
       "  'summary': '<img alt=\"Preview\" align=\"left\" style=\"margin-right: 10px;\" src=\"https://cdni-rt.secure2.footprint.net/files/2019.08/thumbnail/5d53e6bcfc7e931e228b457b.jpg\" /> Military crews are wowing spectators as they pit mastery of their fighter jets and combat helicopters against each other in this year’s Aviadarts competition in Russia. <br/><a href=\"https://www.rt.com/russia/466474-aviadarts-military-aviation-russia/?utm_source=rss&utm_medium=rss&utm_campaign=RSS\">Read Full Article at RT.com</a>',\n",
       "  'summary_detail': {'type': 'text/html',\n",
       "   'language': None,\n",
       "   'base': 'https://www.rt.com/rss/',\n",
       "   'value': '<img alt=\"Preview\" align=\"left\" style=\"margin-right: 10px;\" src=\"https://cdni-rt.secure2.footprint.net/files/2019.08/thumbnail/5d53e6bcfc7e931e228b457b.jpg\" /> Military crews are wowing spectators as they pit mastery of their fighter jets and combat helicopters against each other in this year’s Aviadarts competition in Russia. <br/><a href=\"https://www.rt.com/russia/466474-aviadarts-military-aviation-russia/?utm_source=rss&utm_medium=rss&utm_campaign=RSS\">Read Full Article at RT.com</a>'},\n",
       "  'published': 'Wed, 14 Aug 2019 11:52:00 +0000',\n",
       "  'published_parsed': time.struct_time(tm_year=2019, tm_mon=8, tm_mday=14, tm_hour=11, tm_min=52, tm_sec=0, tm_wday=2, tm_yday=226, tm_isdst=0),\n",
       "  'authors': [{'name': 'RT'}],\n",
       "  'author': 'RT',\n",
       "  'author_detail': {'name': 'RT'}},\n",
       " {'title': '‘Mademoiselle’: Putin kneels before ballet student and kisses her hand (VIDEO)',\n",
       "  'title_detail': {'type': 'text/plain',\n",
       "   'language': None,\n",
       "   'base': 'https://www.rt.com/rss/',\n",
       "   'value': '‘Mademoiselle’: Putin kneels before ballet student and kisses her hand (VIDEO)'},\n",
       "  'links': [{'rel': 'alternate',\n",
       "    'type': 'text/html',\n",
       "    'href': 'https://www.rt.com/russia/466466-putin-kiss-hand-ballet/?utm_source=rss&utm_medium=rss&utm_campaign=RSS'},\n",
       "   {'type': 'image/jpeg',\n",
       "    'length': '123',\n",
       "    'href': 'https://cdni-rt.secure2.footprint.net/files/2019.08/thumbnail/5d53e07efc7e931f228b4580.jpg',\n",
       "    'rel': 'enclosure'}],\n",
       "  'link': 'https://www.rt.com/russia/466466-putin-kiss-hand-ballet/?utm_source=rss&utm_medium=rss&utm_campaign=RSS',\n",
       "  'id': 'https://www.rt.com/russia/466466-putin-kiss-hand-ballet/',\n",
       "  'guidislink': False,\n",
       "  'summary': '<img alt=\"Preview\" align=\"left\" style=\"margin-right: 10px;\" src=\"https://cdni-rt.secure2.footprint.net/files/2019.08/thumbnail/5d53e07efc7e931f228b4580.jpg\" /> Flaunting good manners, Russian President Vladimir kneeled before a ballet student and kissed her hand. <br/><a href=\"https://www.rt.com/russia/466466-putin-kiss-hand-ballet/?utm_source=rss&utm_medium=rss&utm_campaign=RSS\">Read Full Article at RT.com</a>',\n",
       "  'summary_detail': {'type': 'text/html',\n",
       "   'language': None,\n",
       "   'base': 'https://www.rt.com/rss/',\n",
       "   'value': '<img alt=\"Preview\" align=\"left\" style=\"margin-right: 10px;\" src=\"https://cdni-rt.secure2.footprint.net/files/2019.08/thumbnail/5d53e07efc7e931f228b4580.jpg\" /> Flaunting good manners, Russian President Vladimir kneeled before a ballet student and kissed her hand. <br/><a href=\"https://www.rt.com/russia/466466-putin-kiss-hand-ballet/?utm_source=rss&utm_medium=rss&utm_campaign=RSS\">Read Full Article at RT.com</a>'},\n",
       "  'published': 'Wed, 14 Aug 2019 10:50:00 +0000',\n",
       "  'published_parsed': time.struct_time(tm_year=2019, tm_mon=8, tm_mday=14, tm_hour=10, tm_min=50, tm_sec=0, tm_wday=2, tm_yday=226, tm_isdst=0),\n",
       "  'authors': [{'name': 'RT'}],\n",
       "  'author': 'RT',\n",
       "  'author_detail': {'name': 'RT'}},\n",
       " {'title': 'Five Russian weightlifters handed anti-doping suspensions after historical investigation',\n",
       "  'title_detail': {'type': 'text/plain',\n",
       "   'language': None,\n",
       "   'base': 'https://www.rt.com/rss/',\n",
       "   'value': 'Five Russian weightlifters handed anti-doping suspensions after historical investigation'},\n",
       "  'links': [{'rel': 'alternate',\n",
       "    'type': 'text/html',\n",
       "    'href': 'https://www.rt.com/sport/466461-five-russian-weightlifters-handed-doping-suspensions/?utm_source=rss&utm_medium=rss&utm_campaign=RSS'},\n",
       "   {'type': 'image/jpeg',\n",
       "    'length': '123',\n",
       "    'href': 'https://cdni-rt.secure2.footprint.net/files/2019.08/thumbnail/5d53de30fc7e931f228b4567.jpg',\n",
       "    'rel': 'enclosure'}],\n",
       "  'link': 'https://www.rt.com/sport/466461-five-russian-weightlifters-handed-doping-suspensions/?utm_source=rss&utm_medium=rss&utm_campaign=RSS',\n",
       "  'id': 'https://www.rt.com/sport/466461-five-russian-weightlifters-handed-doping-suspensions/',\n",
       "  'guidislink': False,\n",
       "  'summary': '<img alt=\"Preview\" align=\"left\" style=\"margin-right: 10px;\" src=\"https://cdni-rt.secure2.footprint.net/files/2019.08/thumbnail/5d53de30fc7e931f228b4567.jpg\" /> The International Weightlifting Federation (IWF) has announced that five Russian weightlifters have been provisionally suspended for potential doping violations after data was received from a Moscow testing laboratory. <br/><a href=\"https://www.rt.com/sport/466461-five-russian-weightlifters-handed-doping-suspensions/?utm_source=rss&utm_medium=rss&utm_campaign=RSS\">Read Full Article at RT.com</a>',\n",
       "  'summary_detail': {'type': 'text/html',\n",
       "   'language': None,\n",
       "   'base': 'https://www.rt.com/rss/',\n",
       "   'value': '<img alt=\"Preview\" align=\"left\" style=\"margin-right: 10px;\" src=\"https://cdni-rt.secure2.footprint.net/files/2019.08/thumbnail/5d53de30fc7e931f228b4567.jpg\" /> The International Weightlifting Federation (IWF) has announced that five Russian weightlifters have been provisionally suspended for potential doping violations after data was received from a Moscow testing laboratory. <br/><a href=\"https://www.rt.com/sport/466461-five-russian-weightlifters-handed-doping-suspensions/?utm_source=rss&utm_medium=rss&utm_campaign=RSS\">Read Full Article at RT.com</a>'},\n",
       "  'published': 'Wed, 14 Aug 2019 10:13:06 +0000',\n",
       "  'published_parsed': time.struct_time(tm_year=2019, tm_mon=8, tm_mday=14, tm_hour=10, tm_min=13, tm_sec=6, tm_wday=2, tm_yday=226, tm_isdst=0),\n",
       "  'authors': [{'name': 'RT'}],\n",
       "  'author': 'RT',\n",
       "  'author_detail': {'name': 'RT'}},\n",
       " {'title': '‘Accidents happen, unfortunately’: Kremlin comments on fatal test of ‘Skyfall’ missile',\n",
       "  'title_detail': {'type': 'text/plain',\n",
       "   'language': None,\n",
       "   'base': 'https://www.rt.com/rss/',\n",
       "   'value': '‘Accidents happen, unfortunately’: Kremlin comments on fatal test of ‘Skyfall’ missile'},\n",
       "  'links': [{'rel': 'alternate',\n",
       "    'type': 'text/html',\n",
       "    'href': 'https://www.rt.com/news/466426-kremlin-missile-accident-heroes/?utm_source=rss&utm_medium=rss&utm_campaign=RSS'},\n",
       "   {'type': 'image/jpeg',\n",
       "    'length': '123',\n",
       "    'href': 'https://cdni-rt.secure2.footprint.net/files/2019.08/thumbnail/5d53050efc7e93c4438b45ae.JPG',\n",
       "    'rel': 'enclosure'}],\n",
       "  'link': 'https://www.rt.com/news/466426-kremlin-missile-accident-heroes/?utm_source=rss&utm_medium=rss&utm_campaign=RSS',\n",
       "  'id': 'https://www.rt.com/news/466426-kremlin-missile-accident-heroes/',\n",
       "  'guidislink': False,\n",
       "  'summary': '<img alt=\"Preview\" align=\"left\" style=\"margin-right: 10px;\" src=\"https://cdni-rt.secure2.footprint.net/files/2019.08/thumbnail/5d53050efc7e93c4438b45ae.JPG\" /> The five nuclear scientists who died during an explosion at a secret military range in northern Russia are heroes, the Kremlin said, without confirming US speculation the mishap was related to Russia’s hypersonic missile program. <br/><a href=\"https://www.rt.com/news/466426-kremlin-missile-accident-heroes/?utm_source=rss&utm_medium=rss&utm_campaign=RSS\">Read Full Article at RT.com</a>',\n",
       "  'summary_detail': {'type': 'text/html',\n",
       "   'language': None,\n",
       "   'base': 'https://www.rt.com/rss/',\n",
       "   'value': '<img alt=\"Preview\" align=\"left\" style=\"margin-right: 10px;\" src=\"https://cdni-rt.secure2.footprint.net/files/2019.08/thumbnail/5d53050efc7e93c4438b45ae.JPG\" /> The five nuclear scientists who died during an explosion at a secret military range in northern Russia are heroes, the Kremlin said, without confirming US speculation the mishap was related to Russia’s hypersonic missile program. <br/><a href=\"https://www.rt.com/news/466426-kremlin-missile-accident-heroes/?utm_source=rss&utm_medium=rss&utm_campaign=RSS\">Read Full Article at RT.com</a>'},\n",
       "  'published': 'Tue, 13 Aug 2019 18:45:00 +0000',\n",
       "  'published_parsed': time.struct_time(tm_year=2019, tm_mon=8, tm_mday=13, tm_hour=18, tm_min=45, tm_sec=0, tm_wday=1, tm_yday=225, tm_isdst=0),\n",
       "  'authors': [{'name': 'RT'}],\n",
       "  'author': 'RT',\n",
       "  'author_detail': {'name': 'RT'}},\n",
       " {'title': 'Winning or losing? MSM can’t decide if Putin is all-powerful or failing miserably',\n",
       "  'title_detail': {'type': 'text/plain',\n",
       "   'language': None,\n",
       "   'base': 'https://www.rt.com/rss/',\n",
       "   'value': 'Winning or losing? MSM can’t decide if Putin is all-powerful or failing miserably'},\n",
       "  'links': [{'rel': 'alternate',\n",
       "    'type': 'text/html',\n",
       "    'href': 'https://www.rt.com/news/466424-putin-winning-losing-media/?utm_source=rss&utm_medium=rss&utm_campaign=RSS'},\n",
       "   {'type': 'image/jpeg',\n",
       "    'length': '123',\n",
       "    'href': 'https://cdni-rt.secure2.footprint.net/files/2019.08/thumbnail/5d52f1dedda4c87f728b45be.JPG',\n",
       "    'rel': 'enclosure'}],\n",
       "  'link': 'https://www.rt.com/news/466424-putin-winning-losing-media/?utm_source=rss&utm_medium=rss&utm_campaign=RSS',\n",
       "  'id': 'https://www.rt.com/news/466424-putin-winning-losing-media/',\n",
       "  'guidislink': False,\n",
       "  'summary': '<img alt=\"Preview\" align=\"left\" style=\"margin-right: 10px;\" src=\"https://cdni-rt.secure2.footprint.net/files/2019.08/thumbnail/5d52f1dedda4c87f728b45be.JPG\" /> Mainstream media reporting on Russia is not exactly known for its nuance – and, depending on who you ask, on any given day, the massive Eurasian state may be about to crumble to a pile of dust or take over the world. <br/><a href=\"https://www.rt.com/news/466424-putin-winning-losing-media/?utm_source=rss&utm_medium=rss&utm_campaign=RSS\">Read Full Article at RT.com</a>',\n",
       "  'summary_detail': {'type': 'text/html',\n",
       "   'language': None,\n",
       "   'base': 'https://www.rt.com/rss/',\n",
       "   'value': '<img alt=\"Preview\" align=\"left\" style=\"margin-right: 10px;\" src=\"https://cdni-rt.secure2.footprint.net/files/2019.08/thumbnail/5d52f1dedda4c87f728b45be.JPG\" /> Mainstream media reporting on Russia is not exactly known for its nuance – and, depending on who you ask, on any given day, the massive Eurasian state may be about to crumble to a pile of dust or take over the world. <br/><a href=\"https://www.rt.com/news/466424-putin-winning-losing-media/?utm_source=rss&utm_medium=rss&utm_campaign=RSS\">Read Full Article at RT.com</a>'},\n",
       "  'published': 'Tue, 13 Aug 2019 17:26:00 +0000',\n",
       "  'published_parsed': time.struct_time(tm_year=2019, tm_mon=8, tm_mday=13, tm_hour=17, tm_min=26, tm_sec=0, tm_wday=1, tm_yday=225, tm_isdst=0),\n",
       "  'authors': [{'name': 'RT'}],\n",
       "  'author': 'RT',\n",
       "  'author_detail': {'name': 'RT'}}]"
      ]
     },
     "execution_count": 100,
     "metadata": {},
     "output_type": "execute_result"
    }
   ],
   "source": [
    "arr=[]\n",
    "keyword='Russia'\n",
    "for entry in feeds.entries:\n",
    "    if keyword in entry.summary:\n",
    "        arr.append(entry)\n",
    "arr"
   ]
  },
  {
   "cell_type": "code",
   "execution_count": 159,
   "metadata": {},
   "outputs": [
    {
     "name": "stdout",
     "output_type": "stream",
     "text": [
      "Last update: Sun May  5 12:21:33 2019\n"
     ]
    },
    {
     "data": {
      "text/plain": [
       "'1.2'"
      ]
     },
     "execution_count": 159,
     "metadata": {},
     "output_type": "execute_result"
    }
   ],
   "source": [
    "print(\"Last update: %s\" % time.ctime(os.path.getmtime(\"rt_data\")))\n",
    "today=datetime.datetime.now()\n",
    "last_update_time=datetime.datetime.fromtimestamp(os.path.getmtime(\"rt_data\"))\n",
    "str((today-last_update_time).total_seconds()/3600)[:3]"
   ]
  },
  {
   "cell_type": "code",
   "execution_count": 118,
   "metadata": {},
   "outputs": [
    {
     "name": "stdout",
     "output_type": "stream",
     "text": [
      "created: Sun May  5 12:21:33 2019\n"
     ]
    }
   ],
   "source": [
    "print(\"created: %s\" % time.ctime(os.path.getctime(\"rt_data\")))"
   ]
  },
  {
   "cell_type": "code",
   "execution_count": 120,
   "metadata": {},
   "outputs": [
    {
     "data": {
      "text/plain": [
       "'Sun May  5 12:21:33 2019'"
      ]
     },
     "execution_count": 120,
     "metadata": {},
     "output_type": "execute_result"
    }
   ],
   "source": [
    "time.ctime(os.path.getmtime(\"rt_data\"))"
   ]
  },
  {
   "cell_type": "code",
   "execution_count": 57,
   "metadata": {},
   "outputs": [],
   "source": [
    "import json"
   ]
  },
  {
   "cell_type": "code",
   "execution_count": 33,
   "metadata": {},
   "outputs": [],
   "source": [
    "feedsjson=json.dumps(feeds)"
   ]
  },
  {
   "cell_type": "code",
   "execution_count": 37,
   "metadata": {},
   "outputs": [],
   "source": [
    "databack=json.loads(feedsjson)"
   ]
  },
  {
   "cell_type": "code",
   "execution_count": 38,
   "metadata": {},
   "outputs": [
    {
     "data": {
      "text/plain": [
       "dict"
      ]
     },
     "execution_count": 38,
     "metadata": {},
     "output_type": "execute_result"
    }
   ],
   "source": [
    "type(databack)"
   ]
  },
  {
   "cell_type": "code",
   "execution_count": 46,
   "metadata": {},
   "outputs": [
    {
     "data": {
      "text/plain": [
       "list"
      ]
     },
     "execution_count": 46,
     "metadata": {},
     "output_type": "execute_result"
    }
   ],
   "source": [
    "type(feeds.entries)"
   ]
  },
  {
   "cell_type": "code",
   "execution_count": 40,
   "metadata": {},
   "outputs": [],
   "source": [
    "with open('rt_data','w') as outfile:\n",
    "    json.dump(feedsjson,outfile)"
   ]
  },
  {
   "cell_type": "code",
   "execution_count": 42,
   "metadata": {
    "collapsed": true
   },
   "outputs": [],
   "source": [
    "with open('rt_data') as json_file:  \n",
    "    data = json.load(json_file)"
   ]
  },
  {
   "cell_type": "markdown",
   "metadata": {},
   "source": [
    "### Read news from the file"
   ]
  },
  {
   "cell_type": "code",
   "execution_count": 7,
   "metadata": {},
   "outputs": [
    {
     "ename": "NameError",
     "evalue": "name 'null' is not defined",
     "output_type": "error",
     "traceback": [
      "\u001b[0;31m---------------------------------------------------------------------------\u001b[0m",
      "\u001b[0;31mNameError\u001b[0m                                 Traceback (most recent call last)",
      "\u001b[0;32m<ipython-input-7-87d78927a79e>\u001b[0m in \u001b[0;36m<module>\u001b[0;34m()\u001b[0m\n\u001b[1;32m      2\u001b[0m     \u001b[0marr\u001b[0m\u001b[0;34m=\u001b[0m\u001b[0minfile\u001b[0m\u001b[0;34m.\u001b[0m\u001b[0mreadlines\u001b[0m\u001b[0;34m(\u001b[0m\u001b[0;34m)\u001b[0m\u001b[0;34m\u001b[0m\u001b[0m\n\u001b[1;32m      3\u001b[0m     \u001b[0;32mfor\u001b[0m \u001b[0marticle\u001b[0m \u001b[0;32min\u001b[0m \u001b[0marr\u001b[0m\u001b[0;34m:\u001b[0m\u001b[0;34m\u001b[0m\u001b[0m\n\u001b[0;32m----> 4\u001b[0;31m         \u001b[0ma\u001b[0m\u001b[0;34m=\u001b[0m\u001b[0meval\u001b[0m\u001b[0;34m(\u001b[0m\u001b[0marticle\u001b[0m\u001b[0;34m)\u001b[0m\u001b[0;34m\u001b[0m\u001b[0m\n\u001b[0m\u001b[1;32m      5\u001b[0m \u001b[0;34m\u001b[0m\u001b[0m\n\u001b[1;32m      6\u001b[0m \u001b[0;34m\u001b[0m\u001b[0m\n",
      "\u001b[0;32m<string>\u001b[0m in \u001b[0;36m<module>\u001b[0;34m()\u001b[0m\n",
      "\u001b[0;31mNameError\u001b[0m: name 'null' is not defined"
     ]
    }
   ],
   "source": [
    "with open('rt_data','r') as infile:\n",
    "    arr=infile.readlines()\n",
    "    for article in arr:\n",
    "        a=eval(article)\n",
    "        \n",
    "        "
   ]
  },
  {
   "cell_type": "code",
   "execution_count": 9,
   "metadata": {},
   "outputs": [],
   "source": [
    "url=feeds['entries'][2]['links'][0]['href'].split('?')[0]"
   ]
  },
  {
   "cell_type": "code",
   "execution_count": 10,
   "metadata": {},
   "outputs": [
    {
     "data": {
      "text/plain": [
       "'https://www.rt.com/sport/466502-uefa-super-cup-final-liverpool-fans/'"
      ]
     },
     "execution_count": 10,
     "metadata": {},
     "output_type": "execute_result"
    }
   ],
   "source": [
    "url"
   ]
  },
  {
   "cell_type": "code",
   "execution_count": 80,
   "metadata": {},
   "outputs": [
    {
     "data": {
      "text/plain": [
       "100"
      ]
     },
     "execution_count": 80,
     "metadata": {},
     "output_type": "execute_result"
    }
   ],
   "source": [
    "len(feeds['entries'])"
   ]
  },
  {
   "cell_type": "code",
   "execution_count": 11,
   "metadata": {},
   "outputs": [
    {
     "name": "stdout",
     "output_type": "stream",
     "text": [
      "feed\n",
      "entries\n",
      "bozo\n",
      "headers\n",
      "href\n",
      "status\n",
      "encoding\n",
      "version\n",
      "namespaces\n"
     ]
    }
   ],
   "source": [
    "for article in feeds:\n",
    "    print(article)"
   ]
  },
  {
   "cell_type": "code",
   "execution_count": 89,
   "metadata": {},
   "outputs": [
    {
     "data": {
      "text/plain": [
       "'Thu, 15 Aug 2019 09:23:42 +0000'"
      ]
     },
     "execution_count": 89,
     "metadata": {},
     "output_type": "execute_result"
    }
   ],
   "source": [
    "feeds['entries'][0].published"
   ]
  },
  {
   "cell_type": "code",
   "execution_count": 102,
   "metadata": {},
   "outputs": [
    {
     "name": "stdout",
     "output_type": "stream",
     "text": [
      "Enter your keyword:Russia\n",
      "‘I wasn’t saying that Russia hides NUKES’ – Fox News guest rebuts network synopsis of interview\n",
      "Over 2.4 million people mark May Day in Russia, dozens arrested (PHOTOS)\n",
      "As Russiagate sputters, MSNBC hosts show undying faith in Robert Mueller\n",
      "‘Mind-bendingly bizarre’: Barr hearing shows ‘Russiagate’ still has hold on US politics\n",
      "Mueller to testify to Congress on Russiagate probe in May\n",
      "Russia has NUKES in Venezuela? Fox News seemingly misrepresents guest’s claim\n",
      "Russia extends fast track to citizenship offer to more Ukrainians in escalating passport row\n",
      "Fake news to cover failed coup! Venezuela, Russia respond to Pompeo’s claim Maduro almost fled\n"
     ]
    }
   ],
   "source": [
    "x = input('Enter your keyword:')\n",
    "for news in arr:\n",
    "    if x in news['title']:\n",
    "        print(news['title'])"
   ]
  },
  {
   "cell_type": "code",
   "execution_count": 17,
   "metadata": {},
   "outputs": [
    {
     "name": "stdout",
     "output_type": "stream",
     "text": [
      "Big election business: Democratic candidates, even critical of Facebook, pour millions into platform\n",
      "Stifling creativity! Philadelphia & Volkswagen ads banned in the UK for 'gender stereotyping'\n",
      "UEFA Super Cup Final: Liverpool fans party in the streets of Istanbul ahead of Chelsea clash (VIDEO)\n",
      "DOW dips 700+ points amid signs of recession\n",
      "‘I have never really felt supported’: Caster Semenya bemoans lack of support from female athletes\n",
      "Satellite pics show more than 500 Chinese military vehicles in soccer stadium near Hong Kong border\n",
      "Epstein lived in a netherworld where normal rules don’t apply. How many more Epsteins are out there?\n",
      "#HappyBirthdaySon: Indians mock Pakistan on Independence Day\n",
      "Czech President Zeman rejects minister nominee as row threatens ruling coalition\n",
      "US House Foreign Affairs panel threatens ‘swift consequences’ if China uses violence in Hong Kong\n",
      "No chance of US-UK free trade deal if Brexit risks peace in Ireland – Pelosi\n",
      "Turkish drones start operating in N. Syria as safe zone is being created – Ankara\n",
      "US school to hide, not destroy Washington mural depicting slaves and dead Native American\n",
      "Emiliano Sala suffered toxic carbon monoxide poisoning before fatal crash – investigation\n",
      "Denmark govt considers ‘more control’ on Swedish border after Copenhagen blasts\n",
      "Japanese Air Force One, which flew emperor and 14 PMs, up for sale for $28mn (PHOTOS, VIDEOS)\n",
      "US stocks crash after bond market flashes strong recession warning\n",
      "Russia & China set to double trade turnover to $200 billion in 5 years\n",
      "The Soul Sisters: Russia’s ‘most popular’ cheerleaders not fazed by dancing in cold summer weather\n",
      "Trump blasts China & India for ‘taking advantage’ of WTO’s developing nations tag\n",
      "Japan urges more than 300,000 to evacuate as tropical storm Krosa nears\n",
      "Swedish court convicts A$AP Rocky of assault, hands out suspended sentence\n",
      "US, Russia should not stop dialogue on arms control – ambassador Huntsman\n",
      "‘Terrible collaboration’: PM Boris Johnson accuses lawmakers of working with EU to stop Brexit\n",
      "One year after Genoa tragedy: Are Europe’s bridges any safer?\n",
      "Epstein accuser Jennifer Araoz sues financier's estate, Ghislaine Maxwell & 3 staffers\n",
      "Kings of the sky: Pilots and gunners compete to find out whose skills are most awesome (PHOTOS)\n",
      "How a 'biological weapon' can save forests in Siberia & North America\n",
      "Football meets filth: Russian channel trolls team with PornHub post after UCL loss in TV rights row\n",
      "Beijing to US: Don’t ‘stick your nose’ in China’s Hong Kong affairs\n",
      "Wakey wakey, rise and shine! Black hole begins flashing, scientists baffled (VIDEO)\n",
      "Deploying new US missiles in S. Korea could spark ‘new Cold War’ – Pyongyang\n",
      "Beijing denies Hong Kong port visits by two US warships amid ongoing unrest\n",
      "Corbynite Chris Williamson MP sues Labour for ‘re-suspension’ over alleged anti-Semitism\n",
      "Astronomers studying ALIEN radio signals discover 8 NEW sources, one from nearby galaxy\n",
      "‘Mademoiselle’: Putin kneels before ballet student and kisses her hand (VIDEO)\n",
      "Grassroots trade war? Chinese student sues Disneyland over no-outside-food policy\n",
      "‘We smoke $40K of marijuana’: Mike Tyson reveals the amount of weed consumed per month\n",
      "Mortgage debt in US exceeds 2008 financial crisis peak\n",
      "Guatemala can’t do migrant deal with US due to lack of resources – president-elect\n",
      "Five Russian weightlifters handed anti-doping suspensions after historical investigation\n",
      "Hong Kong's super-rich take their money and escape to New York amid protests at home\n",
      "Sudan protest leaders visit Egypt ahead of landmark deal with military\n",
      "The future of pedophile Jeffrey Epstein's fortune shrouded in mystery after his death\n",
      "British Parliament can block no-deal Brexit – ex-finance minister Hammond\n",
      "‘Closer to greatness’: India’s rover mission Chandrayaan-2 leaves Earth’s orbit, heading to Moon\n",
      "Order! Speaker Bercow vows to fight BoJo ‘with every breath’ to keep Parliament running\n",
      "WATCH plane enter ‘hellish’ BRIGHT ORANGE skies as it battles massive wildfires on Greek island\n",
      "Danish police arrest Swedish man, issue intl warrant for another after tax agency’s office blast\n",
      "Pakistan requests UN Security Council meeting over Kashmir row with India\n",
      "Farmers get 2-3 years in jail for smuggling PIG SEMEN in shampoo bottles\n",
      "Hong Kong native Jackie Chan takes part in pro-Beijing campaign to protect national flag\n",
      "‘They did some research’: Shots fired at Texas ICE offices in ‘targeted attack,’ feds say\n",
      "Pakistan requests UN Security Council meeting over India revoking Kashmir autonomy\n",
      "China denies two US Navy warships permission to dock in Hong Kong\n",
      "Comedian says Facebook ‘coming after him’ after Trump retweeted #ClintonBodyCount\n",
      "Facebook had human contractors 'reviewing' users' Messenger voice chats\n",
      "MSM circles the wagons after Sanders jab at WaPo, comparing him with Bad Orange Man\n",
      "CNN’s Don Lemon sued for alleged sexual harassment of a man in New York bar\n",
      "Shadow of trade war: Americans fear of China increases sharply – survey\n",
      "‘Can’t imagine why’: Trump has no idea why anyone would relate Hong Kong protests to US meddling\n",
      "‘Debate me!’ Ocasio-Cortez wades into Barstool Sports feud with unions\n",
      "Philly Orchestra, SF Opera cancel Placido Domingo’s performances after #MeToo report\n",
      "‘Really intense’: Wife of inmate in Epstein prison tells RT how secure facility usually is\n",
      "Manchester City fined $380,000 but avoid transfer ban over youth signings\n",
      "‘Accidents happen, unfortunately’: Kremlin comments on fatal test of ‘Skyfall’ missile\n",
      "Pakistani FM warns that UN will likely not back its objection to Kashmiri autonomy being revoked\n",
      "Winning or losing? MSM can’t decide if Putin is all-powerful or failing miserably\n",
      "‘Screaming & laughing’: Teen killed by machete-wielding thugs is London’s latest stabbing victim\n",
      "Cleaning house: Indonesia returns yet more ‘contaminated’ Aussie garbage\n",
      "Hong Kong airport in CHAOS after protesters and police clash (PHOTOS, VIDEO)\n",
      "‘EU elites make peasants vote until they get it right’ – Bolton lectures in Britain\n",
      "No suffering before death? Lufthansa angers relatives of 2015 Germanwings crash, media reports say\n",
      "‘A historical moment’: Chelsea boss Lampard on female officals at UEFA Super Cup\n",
      "‘Russians killed Epstein’: Go home everyone, Alec Baldwin is on the case\n",
      "UN urges EU nations to let 2 rescue ships disembark 500 stranded migrants\n",
      "Insta couple sparks outrage after splashing holy water on woman’s backside (VIDEO)\n",
      "NFL star Antonio Brown searches for loophole after losing grievance case over banned helmet design\n",
      "Press conference: Liverpool boss Jurgen Klopp meets the media ahead of UEFA Super Cup Final\n",
      "Previous blackface wearers were punished for racism, Silverman was punished for satire. That’s worse\n",
      "Epidemic level: Bangladesh hit by worst ever dengue fever outbreak\n",
      "South Korean Olympic medalists suspended for drinking alcohol at training center\n",
      "US, 4 European states want restart of Serbia-Kosovo talks, say status quo ‘not sustainable’\n",
      "Russia may ‘gradually’ adopt 4-day work week to decrease unemployment\n",
      "No, this Russian family is not looking at a nuclear explosion near their city, dear MSM viewers\n",
      "Press conference: Frank Lampard chats ahead of Chelsea's UEFA Super Cup clash with Liverpool\n",
      "India ‘easing Kashmir restrictions in phased manner’\n",
      "US postpones tariffs on some Chinese products, including cell phones & laptops\n",
      "Once upon a time in… Chelyabinsk: Tarantino ‘helps’ Russian man sell his flat (PHOTOS)\n",
      "NATO F-18 ‘spooked away’ from Russian Defense Minister’s plane (VIDEO)\n",
      "Barca or Real? Assessing the beautiful dilemma facing PSG’s wantaway star Neymar\n",
      "Kremlin rejects claim that Moscow protests are sign of ‘political crisis’\n",
      "Fighting around Tripoli resumes, 2-day truce ends – Libyan officials\n",
      "Mysterious man with TV for a head leaves old sets on doorsteps of 60 homes (VIDEO)\n",
      "12 US Marines suspected of smuggling illegal migrants face charges\n",
      "Russian boxer Kovalev promises ‘spectacular win’ vs Britain’s Yarde in WBO world title defenсe\n",
      "‘Shocking and sickening’: Pelota champion faces legal action after biting head off live chicken\n",
      "Iran claims UK ‘interested’ in releasing seized oil tanker soon  – report\n",
      "Italy recalls Senate at height of holiday season amid govt crisis\n",
      "Bitcoin beware? After banning all cryptocurrencies China ‘close’ to releasing its own digital coin\n"
     ]
    }
   ],
   "source": [
    "for entry in feeds.entries:\n",
    "    print(entry.title)"
   ]
  },
  {
   "cell_type": "code",
   "execution_count": 18,
   "metadata": {},
   "outputs": [
    {
     "data": {
      "text/plain": [
       "feedparser.FeedParserDict"
      ]
     },
     "execution_count": 18,
     "metadata": {},
     "output_type": "execute_result"
    }
   ],
   "source": [
    "type(feeds)"
   ]
  },
  {
   "cell_type": "code",
   "execution_count": 21,
   "metadata": {},
   "outputs": [
    {
     "data": {
      "text/plain": [
       "list"
      ]
     },
     "execution_count": 21,
     "metadata": {},
     "output_type": "execute_result"
    }
   ],
   "source": [
    "type(feeds.entries)"
   ]
  },
  {
   "cell_type": "code",
   "execution_count": 36,
   "metadata": {},
   "outputs": [
    {
     "name": "stdout",
     "output_type": "stream",
     "text": [
      "title\n",
      "title_detail\n",
      "links\n",
      "link\n",
      "id\n",
      "guidislink\n",
      "summary\n",
      "summary_detail\n",
      "published\n",
      "published_parsed\n",
      "authors\n",
      "author\n",
      "author_detail\n"
     ]
    }
   ],
   "source": [
    "for k in (feeds.entries[0].keys()):\n",
    "    print(k)"
   ]
  },
  {
   "cell_type": "code",
   "execution_count": 52,
   "metadata": {},
   "outputs": [
    {
     "data": {
      "text/plain": [
       "'Big election business: Democratic candidates, even critical of Facebook, pour millions into platform'"
      ]
     },
     "execution_count": 52,
     "metadata": {},
     "output_type": "execute_result"
    }
   ],
   "source": [
    "feeds.entries[0].title"
   ]
  },
  {
   "cell_type": "code",
   "execution_count": 54,
   "metadata": {},
   "outputs": [
    {
     "data": {
      "text/plain": [
       "'<img alt=\"Preview\" align=\"left\" style=\"margin-right: 10px;\" src=\"https://cdni-rt.secure2.footprint.net/files/2019.08/thumbnail/5d545c6fdda4c819618b45e4.JPG\" /> Though many Democrats have decried the role of social media giant Facebook in spreading ‘fake news’ during the 2016 presidential election, the party’s new debate rules are driving candidates to shovel millions into the platform. <br/><a href=\"https://www.rt.com/usa/466505-democratic-candidates-millions-facebook/?utm_source=rss&utm_medium=rss&utm_campaign=RSS\">Read Full Article at RT.com</a>'"
      ]
     },
     "execution_count": 54,
     "metadata": {},
     "output_type": "execute_result"
    }
   ],
   "source": [
    "feeds.entries[0].title\n",
    "feeds.entries[0].id\n",
    "feeds.entries[0].author\n",
    "feeds.entries[0].summary"
   ]
  },
  {
   "cell_type": "code",
   "execution_count": 34,
   "metadata": {},
   "outputs": [
    {
     "name": "stdout",
     "output_type": "stream",
     "text": [
      "Big election business: Democratic candidates, even critical of Facebook, pour millions into platform\n",
      "Stifling creativity! Philadelphia & Volkswagen ads banned in the UK for 'gender stereotyping'\n",
      "UEFA Super Cup Final: Liverpool fans party in the streets of Istanbul ahead of Chelsea clash (VIDEO)\n",
      "DOW dips 700+ points amid signs of recession\n",
      "‘I have never really felt supported’: Caster Semenya bemoans lack of support from female athletes\n",
      "Satellite pics show more than 500 Chinese military vehicles in soccer stadium near Hong Kong border\n",
      "Epstein lived in a netherworld where normal rules don’t apply. How many more Epsteins are out there?\n",
      "#HappyBirthdaySon: Indians mock Pakistan on Independence Day\n",
      "Czech President Zeman rejects minister nominee as row threatens ruling coalition\n",
      "US House Foreign Affairs panel threatens ‘swift consequences’ if China uses violence in Hong Kong\n",
      "No chance of US-UK free trade deal if Brexit risks peace in Ireland – Pelosi\n",
      "Turkish drones start operating in N. Syria as safe zone is being created – Ankara\n",
      "US school to hide, not destroy Washington mural depicting slaves and dead Native American\n",
      "Emiliano Sala suffered toxic carbon monoxide poisoning before fatal crash – investigation\n",
      "Denmark govt considers ‘more control’ on Swedish border after Copenhagen blasts\n",
      "Japanese Air Force One, which flew emperor and 14 PMs, up for sale for $28mn (PHOTOS, VIDEOS)\n",
      "US stocks crash after bond market flashes strong recession warning\n",
      "Russia & China set to double trade turnover to $200 billion in 5 years\n",
      "The Soul Sisters: Russia’s ‘most popular’ cheerleaders not fazed by dancing in cold summer weather\n",
      "Trump blasts China & India for ‘taking advantage’ of WTO’s developing nations tag\n",
      "Japan urges more than 300,000 to evacuate as tropical storm Krosa nears\n",
      "Swedish court convicts A$AP Rocky of assault, hands out suspended sentence\n",
      "US, Russia should not stop dialogue on arms control – ambassador Huntsman\n",
      "‘Terrible collaboration’: PM Boris Johnson accuses lawmakers of working with EU to stop Brexit\n",
      "One year after Genoa tragedy: Are Europe’s bridges any safer?\n",
      "Epstein accuser Jennifer Araoz sues financier's estate, Ghislaine Maxwell & 3 staffers\n",
      "Kings of the sky: Pilots and gunners compete to find out whose skills are most awesome (PHOTOS)\n",
      "How a 'biological weapon' can save forests in Siberia & North America\n",
      "Football meets filth: Russian channel trolls team with PornHub post after UCL loss in TV rights row\n",
      "Beijing to US: Don’t ‘stick your nose’ in China’s Hong Kong affairs\n",
      "Wakey wakey, rise and shine! Black hole begins flashing, scientists baffled (VIDEO)\n",
      "Deploying new US missiles in S. Korea could spark ‘new Cold War’ – Pyongyang\n",
      "Beijing denies Hong Kong port visits by two US warships amid ongoing unrest\n",
      "Corbynite Chris Williamson MP sues Labour for ‘re-suspension’ over alleged anti-Semitism\n",
      "Astronomers studying ALIEN radio signals discover 8 NEW sources, one from nearby galaxy\n",
      "‘Mademoiselle’: Putin kneels before ballet student and kisses her hand (VIDEO)\n",
      "Grassroots trade war? Chinese student sues Disneyland over no-outside-food policy\n",
      "‘We smoke $40K of marijuana’: Mike Tyson reveals the amount of weed consumed per month\n",
      "Mortgage debt in US exceeds 2008 financial crisis peak\n",
      "Guatemala can’t do migrant deal with US due to lack of resources – president-elect\n",
      "Five Russian weightlifters handed anti-doping suspensions after historical investigation\n",
      "Hong Kong's super-rich take their money and escape to New York amid protests at home\n",
      "Sudan protest leaders visit Egypt ahead of landmark deal with military\n",
      "The future of pedophile Jeffrey Epstein's fortune shrouded in mystery after his death\n",
      "British Parliament can block no-deal Brexit – ex-finance minister Hammond\n",
      "‘Closer to greatness’: India’s rover mission Chandrayaan-2 leaves Earth’s orbit, heading to Moon\n",
      "Order! Speaker Bercow vows to fight BoJo ‘with every breath’ to keep Parliament running\n",
      "WATCH plane enter ‘hellish’ BRIGHT ORANGE skies as it battles massive wildfires on Greek island\n",
      "Danish police arrest Swedish man, issue intl warrant for another after tax agency’s office blast\n",
      "Pakistan requests UN Security Council meeting over Kashmir row with India\n",
      "Farmers get 2-3 years in jail for smuggling PIG SEMEN in shampoo bottles\n",
      "Hong Kong native Jackie Chan takes part in pro-Beijing campaign to protect national flag\n",
      "‘They did some research’: Shots fired at Texas ICE offices in ‘targeted attack,’ feds say\n",
      "Pakistan requests UN Security Council meeting over India revoking Kashmir autonomy\n",
      "China denies two US Navy warships permission to dock in Hong Kong\n",
      "Comedian says Facebook ‘coming after him’ after Trump retweeted #ClintonBodyCount\n",
      "Facebook had human contractors 'reviewing' users' Messenger voice chats\n",
      "MSM circles the wagons after Sanders jab at WaPo, comparing him with Bad Orange Man\n",
      "CNN’s Don Lemon sued for alleged sexual harassment of a man in New York bar\n",
      "Shadow of trade war: Americans fear of China increases sharply – survey\n",
      "‘Can’t imagine why’: Trump has no idea why anyone would relate Hong Kong protests to US meddling\n",
      "‘Debate me!’ Ocasio-Cortez wades into Barstool Sports feud with unions\n",
      "Philly Orchestra, SF Opera cancel Placido Domingo’s performances after #MeToo report\n",
      "‘Really intense’: Wife of inmate in Epstein prison tells RT how secure facility usually is\n",
      "Manchester City fined $380,000 but avoid transfer ban over youth signings\n",
      "‘Accidents happen, unfortunately’: Kremlin comments on fatal test of ‘Skyfall’ missile\n",
      "Pakistani FM warns that UN will likely not back its objection to Kashmiri autonomy being revoked\n",
      "Winning or losing? MSM can’t decide if Putin is all-powerful or failing miserably\n",
      "‘Screaming & laughing’: Teen killed by machete-wielding thugs is London’s latest stabbing victim\n",
      "Cleaning house: Indonesia returns yet more ‘contaminated’ Aussie garbage\n",
      "Hong Kong airport in CHAOS after protesters and police clash (PHOTOS, VIDEO)\n",
      "‘EU elites make peasants vote until they get it right’ – Bolton lectures in Britain\n",
      "No suffering before death? Lufthansa angers relatives of 2015 Germanwings crash, media reports say\n",
      "‘A historical moment’: Chelsea boss Lampard on female officals at UEFA Super Cup\n",
      "‘Russians killed Epstein’: Go home everyone, Alec Baldwin is on the case\n",
      "UN urges EU nations to let 2 rescue ships disembark 500 stranded migrants\n",
      "Insta couple sparks outrage after splashing holy water on woman’s backside (VIDEO)\n",
      "NFL star Antonio Brown searches for loophole after losing grievance case over banned helmet design\n",
      "Press conference: Liverpool boss Jurgen Klopp meets the media ahead of UEFA Super Cup Final\n",
      "Previous blackface wearers were punished for racism, Silverman was punished for satire. That’s worse\n",
      "Epidemic level: Bangladesh hit by worst ever dengue fever outbreak\n",
      "South Korean Olympic medalists suspended for drinking alcohol at training center\n",
      "US, 4 European states want restart of Serbia-Kosovo talks, say status quo ‘not sustainable’\n",
      "Russia may ‘gradually’ adopt 4-day work week to decrease unemployment\n",
      "No, this Russian family is not looking at a nuclear explosion near their city, dear MSM viewers\n",
      "Press conference: Frank Lampard chats ahead of Chelsea's UEFA Super Cup clash with Liverpool\n",
      "India ‘easing Kashmir restrictions in phased manner’\n",
      "US postpones tariffs on some Chinese products, including cell phones & laptops\n",
      "Once upon a time in… Chelyabinsk: Tarantino ‘helps’ Russian man sell his flat (PHOTOS)\n",
      "NATO F-18 ‘spooked away’ from Russian Defense Minister’s plane (VIDEO)\n",
      "Barca or Real? Assessing the beautiful dilemma facing PSG’s wantaway star Neymar\n",
      "Kremlin rejects claim that Moscow protests are sign of ‘political crisis’\n",
      "Fighting around Tripoli resumes, 2-day truce ends – Libyan officials\n",
      "Mysterious man with TV for a head leaves old sets on doorsteps of 60 homes (VIDEO)\n",
      "12 US Marines suspected of smuggling illegal migrants face charges\n",
      "Russian boxer Kovalev promises ‘spectacular win’ vs Britain’s Yarde in WBO world title defenсe\n",
      "‘Shocking and sickening’: Pelota champion faces legal action after biting head off live chicken\n",
      "Iran claims UK ‘interested’ in releasing seized oil tanker soon  – report\n",
      "Italy recalls Senate at height of holiday season amid govt crisis\n",
      "Bitcoin beware? After banning all cryptocurrencies China ‘close’ to releasing its own digital coin\n"
     ]
    }
   ],
   "source": [
    "for entry in feeds.entries:\n",
    "    print(entry.title)"
   ]
  },
  {
   "cell_type": "code",
   "execution_count": 140,
   "metadata": {},
   "outputs": [],
   "source": [
    "feeds = feedparser.parse('http://www.rawstory.com/category/world/feed')"
   ]
  },
  {
   "cell_type": "code",
   "execution_count": 138,
   "metadata": {},
   "outputs": [
    {
     "name": "stdout",
     "output_type": "stream",
     "text": [
      "Trump Has Asked Aides If It's Possible To Buy Greenland, Sources Say\n",
      "\n",
      "US scientist to file whistleblower complaint after his climate work halted: \"As our climate spins out of control, bureaucrats eager to please the Trump administration have worked feverishly to destroy the reputations of climate scientists who stand in its way.\"\n",
      "\n"
     ]
    }
   ],
   "source": [
    "arr=[]\n",
    "for entry in feeds.entries:\n",
    "    if 'Trump' in entry.title:\n",
    "        print(entry.title+\"\\n\")\n",
    "        arr.append(entry)\n",
    "feeds.entries=arr"
   ]
  },
  {
   "cell_type": "code",
   "execution_count": 142,
   "metadata": {},
   "outputs": [
    {
     "name": "stdout",
     "output_type": "stream",
     "text": [
      "Maddow bursts into laughter: ‘Trump is going to buy Greenland and turn it into a golf course’\n",
      "Trump claims ‘the European Union is worse than China’ — despite violent crackdown on Hong Kong protesters\n",
      "‘Perfect illustration of Israel’s racist apartheid policies’: Netanyahu denounced for barring Ilhan Omar and Rashida Tlaib\n",
      "Shep Smith mocks Israel prime minister for being Trump’s lapdog: The president tweets — Netanyahu forbids\n",
      "Even this conservative pro-Israel group is against Trump and Netanyahu’s decision to ban congresswomen\n",
      "Mexico installs ‘robotic trees’ to tackle air pollution\n",
      "Jewish Dems caution Embassy that congressional ban will be ‘costly for Israel’\n",
      "Israel blocks entry to two US congresswomen – former ambassador says it’s because of Trump’s ‘recommendation’\n",
      "Gibraltar allows Iranian tanker Grace 1 to leave despite US detention request\n",
      "‘A new low’: Israel faces criticism after reports emerge about barring Rashida Tlaib and Ilhan Omar\n",
      "Man stabbed outside UK interior ministry\n",
      "‘You meeting Antifa?’ Trump mocked for ordering Chinese president to ‘meet with’ Hong Kong protesters for ‘happy ending’\n",
      "Israel may bar Ilhan Omar and Rashida Tlaib from entering the country: source\n",
      "‘These men make all of Africa proud’: African leaders join Macron at commemoration of WWII landings in Provence\n",
      "US moves to seize Iranian tanker detained off Gibraltar\n",
      "Trump says if China wants trade deal, it must first ‘work humanely with Hong Kong’\n",
      "Russians hail ‘hero’ pilot after Moscow emergency landing\n",
      "Apology over New Zealand mosque accused’s ‘hateful’ letter\n",
      "Japan’s new emperor speaks of ‘deep remorse’ in 1st speech marking WWII\n",
      "India’s Modi warns of ‘unchecked population explosion’\n",
      "Starvation likely killed Franco-Irish teen in Malaysia, no sign of foul play\n",
      "Canada’s Trudeau broke conflict of interest rules, says ethics watchdog\n",
      "Republicans ‘helped build Frankenstein and now he doesn’t listen!’: MSNBC panel blasts erratic rogue Trump\n",
      "MSNBC’s Nicolle Wallace: ‘Trump’s cluelessness is on full display’ — in every way\n",
      "Understanding how Hitler became German helps us deal with modern-day extremists\n",
      "Troops at the border: A Chinese military intervention in Hong Kong?\n",
      "A brief astronomical history of Saturn’s amazing rings\n",
      "Pelosi: No UK trade deal if Brexit undermines Good Friday accord\n",
      "Notre-Dame cathedral ‘still at risk of collapse’ after fire\n",
      "Secret Russia weapon project: gamechanger or PR stunt?\n"
     ]
    }
   ],
   "source": [
    "for entry in feeds.entries:\n",
    "    print(entry.title)"
   ]
  },
  {
   "cell_type": "code",
   "execution_count": 4,
   "metadata": {},
   "outputs": [],
   "source": [
    "feeds = feedparser.parse('https://cointelegraph.com/rss')"
   ]
  },
  {
   "cell_type": "code",
   "execution_count": 14,
   "metadata": {},
   "outputs": [
    {
     "data": {
      "text/plain": [
       "dict_keys(['title', 'title_detail', 'links', 'link', 'media_content', 'published', 'published_parsed', 'authors', 'author', 'author_detail', 'tags', 'id', 'guidislink', 'summary', 'summary_detail'])"
      ]
     },
     "execution_count": 14,
     "metadata": {},
     "output_type": "execute_result"
    }
   ],
   "source": [
    "feeds.entries[0].keys()"
   ]
  },
  {
   "cell_type": "code",
   "execution_count": 17,
   "metadata": {},
   "outputs": [
    {
     "name": "stdout",
     "output_type": "stream",
     "text": [
      "https://cointelegraph.com/news/bitcoin-price-not-at-the-top-of-new-bull-cycle-yet-new-data-shows\n",
      "https://cointelegraph.com/news/andrew-yang-wants-to-make-us-elections-fraud-proof-using-blockchain\n",
      "https://cointelegraph.com/news/swiss-private-bank-says-400-new-clients-demanding-crypto-products\n",
      "https://cointelegraph.com/news/bitcoin-price-will-never-hit-50k-gold-bug-peter-schiff-tells-tom-lee\n",
      "https://cointelegraph.com/news/bitcoin-dominance-is-actually-above-90-new-research-suggests\n",
      "https://cointelegraph.com/news/bitcoin-price-struggling-at-10k-as-analysts-warn-of-2018-style-dump\n",
      "https://cointelegraph.com/news/cryptocurrencies-used-to-buy-illicit-drugs-says-white-house\n",
      "https://cointelegraph.com/news/blockchaincom-to-integrate-polkadot-tokens-into-its-wallet\n",
      "https://cointelegraph.com/news/nonprofit-launches-blockchain-platform-for-credit-history-in-sierra-leone\n",
      "https://cointelegraph.com/news/casa-releases-node-monitor-service-to-improve-bitcoin-network-health\n",
      "https://cointelegraph.com/news/cryptojacking-code-found-in-eleven-open-libraries-thousands-infected\n",
      "https://cointelegraph.com/news/binance-to-launch-us-platform-soon-helped-by-a-little-known-partner\n",
      "https://cointelegraph.com/news/kraken-crypto-exchange-to-add-support-for-bat-and-waves\n",
      "https://cointelegraph.com/news/travelport-and-ibm-work-on-blockchain-platform-for-hotel-commissions\n",
      "https://cointelegraph.com/news/opskins-group-and-wax-summoned-to-california-court-over-2017-ico\n",
      "https://cointelegraph.com/news/binance-venus-aims-to-outshine-libra-and-chinese-national-crypto\n",
      "https://cointelegraph.com/news/gemini-launches-in-australia-enables-all-supported-coins-except-gusd\n",
      "https://cointelegraph.com/news/us-treasury-sanctions-bitcoin-litecoin-addresses-under-kingpin-act\n",
      "https://cointelegraph.com/news/ukraine-crypto-miners-arrested-for-compromising-nuclear-plant-security\n",
      "https://cointelegraph.com/news/taipei-based-crypto-firm-maicoin-seeks-membership-in-libra-association\n",
      "https://cointelegraph.com/news/price-analysis-21-08-btc-eth-xrp-bch-ltc-bnb-eos-bsv-xmr-xlm\n",
      "https://cointelegraph.com/news/us-sec-registers-digital-securities-platform-securitize-as-transfer-agent\n",
      "https://cointelegraph.com/news/cryptopia-liquidator-determining-pooled-wallet-crypto-ownership\n",
      "https://cointelegraph.com/news/bitcoin-price-back-under-10k-closer-to-ideal-buy-zone-says-trader\n",
      "https://cointelegraph.com/news/tether-plans-to-issue-cnht-a-chinese-yuan-pegged-stablecoin\n",
      "https://cointelegraph.com/news/segwit-creator-introduces-new-language-for-bitcoin-smart-contracts\n",
      "https://cointelegraph.com/news/australias-biggest-bank-says-its-biotokens-can-help-the-environment\n",
      "https://cointelegraph.com/news/india-supreme-court-gives-central-bank-2-weeks-to-justify-crypto-ban\n",
      "https://cointelegraph.com/news/bitcoin-hash-rate-not-affected-as-china-floods-knock-out-miners\n",
      "https://cointelegraph.com/news/whats-driving-up-bitcoin-price-central-banks-says-ft-reporter\n"
     ]
    }
   ],
   "source": [
    "for entry in feeds.entries:\n",
    "    print(entry.link)"
   ]
  },
  {
   "cell_type": "code",
   "execution_count": 18,
   "metadata": {},
   "outputs": [],
   "source": [
    "keyword='Trump'"
   ]
  },
  {
   "cell_type": "code",
   "execution_count": 19,
   "metadata": {},
   "outputs": [
    {
     "data": {
      "text/plain": [
       "'Trump'"
      ]
     },
     "execution_count": 19,
     "metadata": {},
     "output_type": "execute_result"
    }
   ],
   "source": [
    "keyword.capitalize()"
   ]
  },
  {
   "cell_type": "code",
   "execution_count": 20,
   "metadata": {},
   "outputs": [
    {
     "data": {
      "text/plain": [
       "'trump'"
      ]
     },
     "execution_count": 20,
     "metadata": {},
     "output_type": "execute_result"
    }
   ],
   "source": [
    "keyword.lower()"
   ]
  },
  {
   "cell_type": "code",
   "execution_count": null,
   "metadata": {},
   "outputs": [],
   "source": []
  }
 ],
 "metadata": {
  "kernelspec": {
   "display_name": "Python 3",
   "language": "python",
   "name": "python3"
  },
  "language_info": {
   "codemirror_mode": {
    "name": "ipython",
    "version": 3
   },
   "file_extension": ".py",
   "mimetype": "text/x-python",
   "name": "python",
   "nbconvert_exporter": "python",
   "pygments_lexer": "ipython3",
   "version": "3.7.4"
  }
 },
 "nbformat": 4,
 "nbformat_minor": 2
}
