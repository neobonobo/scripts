{
 "cells": [
  {
   "cell_type": "markdown",
   "metadata": {
    "collapsed": true
   },
   "source": [
    "![](http://ipython.org/_static/IPy_header.png)\n",
    "### CSV Handling"
   ]
  },
  {
   "cell_type": "code",
   "execution_count": 154,
   "metadata": {},
   "outputs": [],
   "source": [
    "import datetime\n",
    "import json"
   ]
  },
  {
   "cell_type": "markdown",
   "metadata": {},
   "source": [
    "- The python module json converts a python dict object into JSON objects, whereas the list and tuple are converted into JSON array."
   ]
  },
  {
   "cell_type": "code",
   "execution_count": 332,
   "metadata": {},
   "outputs": [],
   "source": [
    "from mylib import display_file1 , display_file2, ToDay , w2programming, User"
   ]
  },
  {
   "cell_type": "code",
   "execution_count": 281,
   "metadata": {},
   "outputs": [],
   "source": [
    "def adduser_as_list():\n",
    "    \"\"\"gets the user info from user and save it as python list as json\"\"\"\n",
    "    users=[]\n",
    "    username=input('Enter username: ')\n",
    "    first_name=input('Enter first name: ')\n",
    "    last_name=input('Enter last name: ')\n",
    "    userdict={'username':username,\"first_name\":first_name,\"last_name\":last_name}   \n",
    "    with open(\"test\") as f:\n",
    "        users=json.load(f)\n",
    "    try:\n",
    "        with open(\"test\",'w') as fh:\n",
    "            users.append(userdict)\n",
    "            json.dump(users,fh)\n",
    "    except FileNotFoundError:\n",
    "        print('no file like that, maybe you are not in picode folder')\n",
    "    else:\n",
    "        print(f\"New user {users[-1]['username']} saved\")"
   ]
  },
  {
   "cell_type": "code",
   "execution_count": 168,
   "metadata": {},
   "outputs": [],
   "source": [
    "def adduser_as_dict():\n",
    "    \"\"\"gets the user info from user and save it as python dict as json\"\"\"\n",
    "    users={}\n",
    "    try:\n",
    "        with open('users.json') as f:\n",
    "            users=json.load(f)\n",
    "    except FileNotFoundError:\n",
    "        print('no file like that, maybe you are not in picode folder')\n",
    "    else:\n",
    "        username=input('Enter username: ')\n",
    "        first_name=input('Enter first name: ')\n",
    "        last_name=input('Enter last name: ')\n",
    "        users[username]={\"first_name\":first_name,\"last_name\":last_name}\n",
    "    try:\n",
    "        with open(\"users.json\",'w') as fh:\n",
    "            json.dump(users,fh)\n",
    "    except FileNotFoundError:\n",
    "        print('no file like that, maybe you are not in picode folder')\n",
    "    else:\n",
    "        print(f\"New user  saved\")"
   ]
  },
  {
   "cell_type": "code",
   "execution_count": 285,
   "metadata": {},
   "outputs": [],
   "source": [
    "def listusers():\n",
    "    try:\n",
    "        with open(\"users.json\") as fh:\n",
    "            users=json.load(fh)\n",
    "    except FileNotFoundError:\n",
    "        print('no file like that, maybe you are not in picode folder')\n",
    "    else:\n",
    "        for k,v in users.items():\n",
    "            print(k)"
   ]
  },
  {
   "cell_type": "code",
   "execution_count": 75,
   "metadata": {},
   "outputs": [],
   "source": [
    "class User:\n",
    "    \"\"\"A simple attempt to represent a user.\"\"\"\n",
    "    def __init__(self, username, first, last):\n",
    "        \"\"\"Initialize attributes to describe a user.\"\"\"\n",
    "        self.username=username\n",
    "        self.first_name=first\n",
    "        self.last_name=last\n",
    "    def get_full_name(self):\n",
    "        print(f\"{self.first_name.title()} {self.last_name.title()}\")\n",
    "    def save(self):\n",
    "        filename='Users.json'\n",
    "        try:\n",
    "            with open(filename,'w') as fh:\n",
    "                json.dump(self.__dict__,fh)\n",
    "        except FileNotFoundError:\n",
    "            print('no file like that, maybe you are not in picode folder')"
   ]
  },
  {
   "cell_type": "code",
   "execution_count": 340,
   "metadata": {},
   "outputs": [],
   "source": [
    "with open('users.json') as f:\n",
    "    users=json.load(f)"
   ]
  },
  {
   "cell_type": "markdown",
   "metadata": {},
   "source": [
    "## rememberme.py"
   ]
  },
  {
   "cell_type": "code",
   "execution_count": 5,
   "metadata": {},
   "outputs": [],
   "source": [
    "import json\n",
    "def get_stored_username():\n",
    "    \"\"\"Get stored username if available\"\"\"\n",
    "    filename=\"username.json\"\n",
    "    try:\n",
    "        with open(filename) as f_obj:\n",
    "            username=json.load(f_obj)\n",
    "    except FileNotFoundError:\n",
    "             return None\n",
    "    else:\n",
    "        return username\n",
    "def get_new_username():\n",
    "    \"\"\"Prompt for a new username\"\"\"\n",
    "    username=input(\"What is your name?\")\n",
    "    filename=\"username.json\"\n",
    "    with open(filename,'w') as f_obj:\n",
    "        json.dump(username,f_obj)\n",
    "        return username\n",
    "        \n",
    "def greet_user():\n",
    "    \"\"\"Greet the user by name.\"\"\"\n",
    "    username=get_stored_username()\n",
    "    if username:\n",
    "        print(\"Welcome back, \"+username.title()+\"!\")\n",
    "    else:\n",
    "        username=get_new_username()\n",
    "        print(\"We'll remember you when you come back, \"+ username +\"!\")        "
   ]
  },
  {
   "cell_type": "code",
   "execution_count": 345,
   "metadata": {},
   "outputs": [],
   "source": [
    "dt=int(datetime.datetime.now().timestamp())\n",
    "rate={'date':dt,'usd/tl':5.7,'btc/usd':1200}"
   ]
  },
  {
   "cell_type": "code",
   "execution_count": null,
   "metadata": {},
   "outputs": [],
   "source": []
  }
 ],
 "metadata": {
  "kernelspec": {
   "display_name": "Python 3",
   "language": "python",
   "name": "python3"
  },
  "language_info": {
   "codemirror_mode": {
    "name": "ipython",
    "version": 3
   },
   "file_extension": ".py",
   "mimetype": "text/x-python",
   "name": "python",
   "nbconvert_exporter": "python",
   "pygments_lexer": "ipython3",
   "version": "3.7.4"
  }
 },
 "nbformat": 4,
 "nbformat_minor": 1
}
