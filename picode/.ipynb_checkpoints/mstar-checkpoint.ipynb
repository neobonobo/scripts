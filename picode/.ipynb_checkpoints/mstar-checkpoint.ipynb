{
 "cells": [
  {
   "cell_type": "code",
   "execution_count": 71,
   "metadata": {
    "collapsed": true
   },
   "outputs": [],
   "source": [
    "import csv"
   ]
  },
  {
   "cell_type": "code",
   "execution_count": null,
   "metadata": {},
   "outputs": [],
   "source": [
    "for line in mtb:\n",
    "    if 'Electricity Fee' in line.description:\n",
    "        line.account_name='expense'\n",
    "        line.account_number='0000'\n",
    "        line.save()\n",
    "    elif 'Water Fee'in line.description:\n",
    "        \n",
    "\n",
    "        or  or 'Gas Fee'"
   ]
  },
  {
   "cell_type": "code",
   "execution_count": null,
   "metadata": {},
   "outputs": [],
   "source": [
    "data = []\n",
    "reader=csv.reader(open('../Mstar/citi_02_16.csv','r'))\n",
    "writer=csv.writer(open('../Mstar/banktransaction_02_16.csv','a'),delimiter=',')\n",
    "for row in reader:\n",
    "    data.append(row)"
   ]
  },
  {
   "cell_type": "code",
   "execution_count": null,
   "metadata": {
    "scrolled": true
   },
   "outputs": [],
   "source": [
    "print(\"| {0:10} | {2:10} | {1:12} | {3:30} |\".format('Date','Currency','Balance','Description'))\n",
    "print('|',71*'-','|')\n",
    "for item in sorted(data[1:]):\n",
    "    if item[5]==\"USD\":\n",
    "        print(\"|{0:10} | {2:10} | {1:12} | {3:30} |\".format(item[0],item[10],item[5],item[14]))\n",
    "        line=(item[0],item[5],item[10],item[14])\n",
    "        writer.writerow(line)\n",
    "        "
   ]
  },
  {
   "cell_type": "code",
   "execution_count": 251,
   "metadata": {},
   "outputs": [],
   "source": [
    "w.close()"
   ]
  },
  {
   "cell_type": "code",
   "execution_count": 194,
   "metadata": {},
   "outputs": [
    {
     "data": {
      "text/plain": [
       "['Ekstre Tarihi', 'Şube Adı', 'Şube Numarası', 'Hesap Numarası', 'Hesap Para Birimi', 'Açılıştaki Kullanılabilir Bakiye', 'Kullanılabilir Bakiye', 'Açılış Bakiyesi', 'Bakiye', 'Hesaplanmış Bakiye', 'Hesap Adı', 'Hesap Tipi', 'Müşteri Adı', 'Müşteri Numarası', 'Son Giriş Tarihi', 'IBAN']"
      ]
     },
     "execution_count": 194,
     "metadata": {},
     "output_type": "execute_result"
    }
   ],
   "source": [
    "keyitem"
   ]
  },
  {
   "cell_type": "code",
   "execution_count": 59,
   "metadata": {
    "collapsed": true
   },
   "outputs": [],
   "source": [
    "ofile  = open('ms.csv', \"wt\")\n",
    "writer = csv.writer(ofile, delimiter=',', quotechar='\"')\n",
    "for line in data:\n",
    "    writer.writerow(line)"
   ]
  },
  {
   "cell_type": "markdown",
   "metadata": {},
   "source": [
    "### Average USD Rates\n",
    "Rate | USD | TL\n",
    "---|---|----\n",
    "2014|1| 2.19\n",
    "2015| 1 | 2.68\n",
    "\n",
    "### Employee Salary Table\n",
    "\n",
    "Year|Basic Salary|Social Security|Expenses\n",
    "---|---|---|---\n",
    "2014|128K USD|88751 TL|52765 TL\n",
    "2015|112K USD|88782 TL|85980 TL\n",
    "\n",
    "Year | Flight Tickets | Accounting | Rent\n",
    "---|---|---|---\n",
    "2014 | 36401 TL | 25673 TL | \n",
    "2015 | 58228 TL | 36665 TL |\n",
    "\n",
    "### Employee Expenses Table\n",
    "\n",
    "2015|Expenses|Allowance\n",
    "---|---|---\n",
    "Fatih|47705 TL|5320 TL\n",
    "Kursat|31115 TL|1840 TL\n",
    "\n",
    "2014|Expenses|Allowance\n",
    "---|---|---\n",
    "Fatih|32602 TL|1418 TL\n",
    "Kursat|17552 TL|1765 TL\n",
    "\n",
    "### Flight Tickets\n",
    "\n",
    "Aborda|Flight tickets\n",
    "---|---\n",
    "2014|43015 TL\n",
    "2015|58834 TL\n",
    "\n",
    "### Accounting\n",
    " Year |Quarter|Amount\n",
    "---|---\n",
    "2014|Q1|6366 TL\n",
    "2014|Q2|6008 TL\n",
    "2014|Q3|6276 TL\n",
    "2014|Q4|6879 TL\n",
    "2014|Total|25529 TL\n",
    "2015|Q1|7120 TL\n",
    "2015|Q2|7788 TL\n",
    "2015|Q3|8379 TL\n",
    "2015|Q4|9008 TL\n",
    "2015|Total|32295 TL\n",
    "2015|Work Permit|4322 TL\n"
   ]
  },
  {
   "cell_type": "code",
   "execution_count": null,
   "metadata": {},
   "outputs": [],
   "source": [
    "# USD Rates\n",
    "rates_16={\n",
    "    'january': '2.930',\n",
    "}\n",
    "rates_15={\n",
    "    'january': '2.343',\n",
    "    'february': '2.439',\n",
    "    'march': '2.553',\n",
    "    'april':'2.671',\n",
    "    'may':'2.704',\n",
    "    'june':'2.709',\n",
    "    'july':'2.770',\n",
    "    'august':'2.914',\n",
    "    'september':'3.014',\n",
    "    'october':'2.275',\n",
    "    'november':'2.871',\n",
    "    'december':'2.920'\n",
    "}\n",
    "rates_14={\n",
    "    'january': '2.165',\n",
    "    'february': '2.220',\n",
    "    'march': '2.241',\n",
    "    'april':'2.122',\n",
    "    'may':'2.122',\n",
    "    'june':'2.082',\n",
    "    'july':'2.122',\n",
    "    'august':'2.153',\n",
    "    'september':'2.164',\n",
    "    'october':'2.477',\n",
    "    'november':'2.218',\n",
    "    'december':'2.310'\n",
    "}"
   ]
  },
  {
   "cell_type": "code",
   "execution_count": 9,
   "metadata": {},
   "outputs": [
    {
     "ename": "TypeError",
     "evalue": "'builtin_function_or_method' object is not iterable",
     "output_type": "error",
     "traceback": [
      "\u001b[0;31m---------------------------------------------------------------------------\u001b[0m",
      "\u001b[0;31mTypeError\u001b[0m                                 Traceback (most recent call last)",
      "\u001b[0;32m<ipython-input-9-20440e5d4d99>\u001b[0m in \u001b[0;36m<module>\u001b[0;34m()\u001b[0m\n\u001b[0;32m----> 1\u001b[0;31m \u001b[0;32mfor\u001b[0m \u001b[0mkey\u001b[0m \u001b[0;32min\u001b[0m \u001b[0mrates_15\u001b[0m\u001b[0;34m.\u001b[0m\u001b[0mvalues\u001b[0m\u001b[0;34m:\u001b[0m\u001b[0;34m\u001b[0m\u001b[0m\n\u001b[0m\u001b[1;32m      2\u001b[0m     \u001b[0mprint\u001b[0m\u001b[0;34m(\u001b[0m\u001b[0mkey\u001b[0m\u001b[0;34m,\u001b[0m \u001b[0mkey\u001b[0m\u001b[0;34m)\u001b[0m\u001b[0;34m\u001b[0m\u001b[0m\n",
      "\u001b[0;31mTypeError\u001b[0m: 'builtin_function_or_method' object is not iterable"
     ]
    }
   ],
   "source": [
    "for key in rates_15.values:\n",
    "    print(key, key)"
   ]
  },
  {
   "cell_type": "markdown",
   "metadata": {},
   "source": [
    "## mylib library\n",
    "import csv\n",
    "\n",
    "    def read_csv_file(filename):\n",
    "        \"\"\"Reads a CSV file and return it as a list of rows.\"\"\"\n",
    "        data=[]\n",
    "        for row in csv.reader(open(filename)):\n",
    "            data.append(row)\n",
    "        return data"
   ]
  },
  {
   "cell_type": "code",
   "execution_count": 2,
   "metadata": {
    "collapsed": true
   },
   "outputs": [],
   "source": [
    "data=mylib.read_csv_file(\"mstar.csv\")"
   ]
  },
  {
   "cell_type": "raw",
   "metadata": {
    "collapsed": true
   },
   "source": [
    "for i in range(len(data[0])):\n",
    "    print(i,data[1][i])"
   ]
  },
  {
   "cell_type": "raw",
   "metadata": {
    "collapsed": true
   },
   "source": [
    "list=[x for x in data if x[0]=='Fatih']\n",
    "#listele who date amount currency mtb\n",
    "mylib.topla(list)\n",
    "for i in list[1:]:\n",
    "    print('{0:10s} {1:10s} {2:10.2f} {3:5s} {4:10s}'.format(i[0],i[1],float(i[4]),i[5],i[6]))\n"
   ]
  },
  {
   "cell_type": "markdown",
   "metadata": {
    "collapsed": true
   },
   "source": [
    "### Average USD Rates\n",
    "Rate | USD | TL\n",
    "---|---|----\n",
    "2014|1| 2.19\n",
    "2015| 1 | 2.68\n",
    "\n",
    "### Employee Salary Table\n",
    "\n",
    "Year|Basic Salary|Social Security|Expenses\n",
    "---|---|---|---\n",
    "2014|128K USD|88751 TL|52765 TL\n",
    "2015|112K USD|88782 TL|85980 TL\n",
    "\n",
    "Year | Flight Tickets | Accounting | Rent\n",
    "---|---|---|---\n",
    "2014 | 36401 TL | 25673 TL | \n",
    "2015 | 58228 TL | 36665 TL |\n",
    "\n",
    "### Employee Expenses Table\n",
    "\n",
    "2015|Expenses|Allowance\n",
    "---|---|---\n",
    "Fatih|47705 TL|5320 TL\n",
    "Kursat|31115 TL|1840 TL\n",
    "\n",
    "2014|Expenses|Allowance\n",
    "---|---|---\n",
    "Fatih|32602 TL|1418 TL\n",
    "Kursat|17552 TL|1765 TL\n",
    "\n",
    "### Flight Tickets\n",
    "\n",
    "Aborda|Flight tickets\n",
    "---|---\n",
    "2014|43015 TL\n",
    "2015|58834 TL\n",
    "\n",
    "### Accounting\n",
    " Year |Quarter|Amount\n",
    "---|---\n",
    "2014|Q1|6366 TL\n",
    "2014|Q2|6008 TL\n",
    "2014|Q3|6276 TL\n",
    "2014|Q4|6879 TL\n",
    "2014|Total|25529 TL\n",
    "2015|Q1|7120 TL\n",
    "2015|Q2|7788 TL\n",
    "2015|Q3|8379 TL\n",
    "2015|Q4|9008 TL\n",
    "2015|Total|32295 TL\n",
    "2015|Work Permit|4322 TL"
   ]
  },
  {
   "cell_type": "code",
   "execution_count": 1,
   "metadata": {},
   "outputs": [],
   "source": [
    "# USD Rates\n",
    "rates_16={\n",
    "    'january': '2.930',\n",
    "}\n",
    "rates_15={\n",
    "    'january': '2.343',\n",
    "    'february': '2.439',\n",
    "    'march': '2.553',\n",
    "    'april':'2.671',\n",
    "    'may':'2.704',\n",
    "    'june':'2.709',\n",
    "    'july':'2.770',\n",
    "    'august':'2.914',\n",
    "    'september':'3.014',\n",
    "    'october':'2.275',\n",
    "    'november':'2.871',\n",
    "    'december':'2.920'\n",
    "}\n",
    "rates_14={\n",
    "    'january': '2.165',\n",
    "    'february': '2.220',\n",
    "    'march': '2.241',\n",
    "    'april':'2.122',\n",
    "    'may':'2.122',\n",
    "    'june':'2.082',\n",
    "    'july':'2.122',\n",
    "    'august':'2.153',\n",
    "    'september':'2.164',\n",
    "    'october':'2.477',\n",
    "    'november':'2.218',\n",
    "    'december':'2.310'\n",
    "}"
   ]
  },
  {
   "cell_type": "code",
   "execution_count": null,
   "metadata": {},
   "outputs": [],
   "source": []
  }
 ],
 "metadata": {
  "kernelspec": {
   "display_name": "Python 3",
   "language": "python",
   "name": "python3"
  },
  "language_info": {
   "codemirror_mode": {
    "name": "ipython",
    "version": 3
   },
   "file_extension": ".py",
   "mimetype": "text/x-python",
   "name": "python",
   "nbconvert_exporter": "python",
   "pygments_lexer": "ipython3",
   "version": "3.7.0"
  }
 },
 "nbformat": 4,
 "nbformat_minor": 1
}
