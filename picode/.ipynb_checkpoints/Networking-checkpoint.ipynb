{
 "cells": [
  {
   "cell_type": "code",
   "execution_count": 1,
   "metadata": {},
   "outputs": [],
   "source": [
    "import serial,time"
   ]
  },
  {
   "cell_type": "code",
   "execution_count": 2,
   "metadata": {},
   "outputs": [],
   "source": [
    "ser = serial.Serial()\n",
    "ser.baudrate = 9600\n",
    "ser.port = '/dev/cu.usbmodem14101'\n",
    "ser.timeout = 0"
   ]
  },
  {
   "cell_type": "code",
   "execution_count": 3,
   "metadata": {},
   "outputs": [
    {
     "data": {
      "text/plain": [
       "Serial<id=0x10d7f3470, open=False>(port='/dev/cu.usbmodem14101', baudrate=9600, bytesize=8, parity='N', stopbits=1, timeout=0, xonxoff=False, rtscts=False, dsrdtr=False)"
      ]
     },
     "execution_count": 3,
     "metadata": {},
     "output_type": "execute_result"
    }
   ],
   "source": [
    "ser"
   ]
  },
  {
   "cell_type": "code",
   "execution_count": 4,
   "metadata": {},
   "outputs": [],
   "source": [
    "ser.open()\n",
    "time.sleep(5)\n",
    "data=ser.read(80)\n",
    "pieces=str(data).split(\"\\\\t\")\n",
    "Humidity=pieces[0][12:14]\n",
    "Temperature=pieces[1][13:15]\n",
    "ser.close()"
   ]
  },
  {
   "cell_type": "code",
   "execution_count": 5,
   "metadata": {},
   "outputs": [
    {
     "data": {
      "text/plain": [
       "('32', '19')"
      ]
     },
     "execution_count": 5,
     "metadata": {},
     "output_type": "execute_result"
    }
   ],
   "source": [
    "Humidity,Temperature"
   ]
  },
  {
   "cell_type": "code",
   "execution_count": 30,
   "metadata": {},
   "outputs": [],
   "source": [
    "ser.close()"
   ]
  },
  {
   "cell_type": "code",
   "execution_count": 17,
   "metadata": {},
   "outputs": [
    {
     "data": {
      "text/plain": [
       "False"
      ]
     },
     "execution_count": 17,
     "metadata": {},
     "output_type": "execute_result"
    }
   ],
   "source": [
    "ser.is_open"
   ]
  },
  {
   "cell_type": "code",
   "execution_count": 448,
   "metadata": {},
   "outputs": [
    {
     "data": {
      "text/plain": [
       "str"
      ]
     },
     "execution_count": 448,
     "metadata": {},
     "output_type": "execute_result"
    }
   ],
   "source": [
    "type(Humidity)"
   ]
  },
  {
   "cell_type": "code",
   "execution_count": 18,
   "metadata": {},
   "outputs": [
    {
     "name": "stdout",
     "output_type": "stream",
     "text": [
      "[b'Humidity: 44.00 %\\tTemperature: 19.00 *C\\r\\n']\n",
      "[b'Humidity: 44.00 %\\tTemperature: 19.00 *C\\r\\n']\n",
      "[b'Humidity: 44.00 %\\tTemperature: 19.00 *C\\r\\n']\n",
      "[b'Humidity: 44.00 %\\tTemperature: 19.00 *C\\r\\n']\n",
      "[b'Humidity: 44.00 %\\tTemperature: 19.00 *C\\r\\n']\n",
      "[b'Humidity: 44.00 %\\tTemperature: 19.00 *C\\r\\n']\n",
      "[b'Humidity: 44.00 %\\tTemperature: 19.00 *C\\r\\n']\n",
      "[b'Humidity: 44.00 %\\tTemperature: 19.00 *C\\r\\n']\n",
      "[b'Humidity: 44.00 %\\tTemperature: 19.00 *C\\r\\n']\n",
      "[b'Humidity: 44.00 %\\tTemperature: 19.00 *C\\r\\n']\n",
      "[b'Humidity: 44.00 %\\tTemperature: 19.00 *C\\r\\n']\n",
      "[b'Humidity: 44.00 %\\tTemperature: 19.00 *C\\r\\n']\n",
      "[b'Humidity: 44.00 %\\tTemperature: 19.00 *C\\r\\n']\n",
      "[b'Humidity: 44.00 %\\tTemperature: 19.00 *C\\r\\n']\n",
      "[b'Humidity: 44.00 %\\tTemperature: 19.00 *C\\r\\n']\n",
      "[b'Humidity: 44.00 %\\tTemperature: 19.00 *C\\r\\n']\n",
      "[b'Humidity: 44.00 %\\tTemperature: 19.00 *C\\r\\n']\n",
      "[b'Humidity: 44.00 %\\tTemperature: 19.00 *C\\r\\n']\n",
      "[b'Humidity: 44.00 %\\tTemperature: 19.00 *C\\r\\n']\n",
      "[b'Humidity: 44.00 %\\tTemperature: 19.00 *C\\r\\n']\n",
      "[b'Humidity: 44.00 %\\tTemperature: 19.00 *C\\r\\n']\n",
      "[b'Humidity: 44.00 %\\tTemperature: 19.00 *C\\r\\n']\n",
      "[b'Humidity: 44.00 %\\tTemperature: 19.00 *C\\r\\n']\n",
      "[b'Humidity: 44.00 %\\tTemperature: 19.00 *C\\r\\n']\n",
      "[b'Humidity: 44.00 %\\tTemperature: 19.00 *C\\r\\n']\n",
      "[b'Humidity: 44.00 %\\tTemperature: 19.00 *C\\r\\n']\n",
      "[b'Humidity: 44.00 %\\tTemperature: 19.00 *C\\r\\n']\n",
      "[b'Humidity: 44.00 %\\tTemperature: 19.00 *C\\r\\n']\n"
     ]
    },
    {
     "ename": "KeyboardInterrupt",
     "evalue": "",
     "output_type": "error",
     "traceback": [
      "\u001b[0;31m---------------------------------------------------------------------------\u001b[0m",
      "\u001b[0;31mKeyboardInterrupt\u001b[0m                         Traceback (most recent call last)",
      "\u001b[0;32m<ipython-input-18-b74cc8b75f6e>\u001b[0m in \u001b[0;36m<module>\u001b[0;34m()\u001b[0m\n\u001b[1;32m      1\u001b[0m \u001b[0mser\u001b[0m\u001b[0;34m.\u001b[0m\u001b[0mopen\u001b[0m\u001b[0;34m(\u001b[0m\u001b[0;34m)\u001b[0m\u001b[0;34m\u001b[0m\u001b[0m\n\u001b[1;32m      2\u001b[0m \u001b[0;32mwhile\u001b[0m \u001b[0;32mTrue\u001b[0m\u001b[0;34m:\u001b[0m\u001b[0;34m\u001b[0m\u001b[0m\n\u001b[0;32m----> 3\u001b[0;31m     \u001b[0mdata\u001b[0m \u001b[0;34m=\u001b[0m \u001b[0mser\u001b[0m\u001b[0;34m.\u001b[0m\u001b[0mreadlines\u001b[0m\u001b[0;34m(\u001b[0m\u001b[0;34m)\u001b[0m\u001b[0;31m#the last bit gets rid of the new-line chars\u001b[0m\u001b[0;34m\u001b[0m\u001b[0m\n\u001b[0m\u001b[1;32m      4\u001b[0m     \u001b[0;32mif\u001b[0m \u001b[0mdata\u001b[0m\u001b[0;34m:\u001b[0m\u001b[0;34m\u001b[0m\u001b[0m\n\u001b[1;32m      5\u001b[0m         \u001b[0mprint\u001b[0m\u001b[0;34m(\u001b[0m\u001b[0mdata\u001b[0m\u001b[0;34m)\u001b[0m\u001b[0;34m\u001b[0m\u001b[0m\n",
      "\u001b[0;32m~/persite/env/perenv/lib/python3.7/site-packages/serial/serialposix.py\u001b[0m in \u001b[0;36mread\u001b[0;34m(self, size)\u001b[0m\n\u001b[1;32m    481\u001b[0m         \u001b[0;32mwhile\u001b[0m \u001b[0mlen\u001b[0m\u001b[0;34m(\u001b[0m\u001b[0mread\u001b[0m\u001b[0;34m)\u001b[0m \u001b[0;34m<\u001b[0m \u001b[0msize\u001b[0m\u001b[0;34m:\u001b[0m\u001b[0;34m\u001b[0m\u001b[0m\n\u001b[1;32m    482\u001b[0m             \u001b[0;32mtry\u001b[0m\u001b[0;34m:\u001b[0m\u001b[0;34m\u001b[0m\u001b[0m\n\u001b[0;32m--> 483\u001b[0;31m                 \u001b[0mready\u001b[0m\u001b[0;34m,\u001b[0m \u001b[0m_\u001b[0m\u001b[0;34m,\u001b[0m \u001b[0m_\u001b[0m \u001b[0;34m=\u001b[0m \u001b[0mselect\u001b[0m\u001b[0;34m.\u001b[0m\u001b[0mselect\u001b[0m\u001b[0;34m(\u001b[0m\u001b[0;34m[\u001b[0m\u001b[0mself\u001b[0m\u001b[0;34m.\u001b[0m\u001b[0mfd\u001b[0m\u001b[0;34m,\u001b[0m \u001b[0mself\u001b[0m\u001b[0;34m.\u001b[0m\u001b[0mpipe_abort_read_r\u001b[0m\u001b[0;34m]\u001b[0m\u001b[0;34m,\u001b[0m \u001b[0;34m[\u001b[0m\u001b[0;34m]\u001b[0m\u001b[0;34m,\u001b[0m \u001b[0;34m[\u001b[0m\u001b[0;34m]\u001b[0m\u001b[0;34m,\u001b[0m \u001b[0mtimeout\u001b[0m\u001b[0;34m.\u001b[0m\u001b[0mtime_left\u001b[0m\u001b[0;34m(\u001b[0m\u001b[0;34m)\u001b[0m\u001b[0;34m)\u001b[0m\u001b[0;34m\u001b[0m\u001b[0m\n\u001b[0m\u001b[1;32m    484\u001b[0m                 \u001b[0;32mif\u001b[0m \u001b[0mself\u001b[0m\u001b[0;34m.\u001b[0m\u001b[0mpipe_abort_read_r\u001b[0m \u001b[0;32min\u001b[0m \u001b[0mready\u001b[0m\u001b[0;34m:\u001b[0m\u001b[0;34m\u001b[0m\u001b[0m\n\u001b[1;32m    485\u001b[0m                     \u001b[0mos\u001b[0m\u001b[0;34m.\u001b[0m\u001b[0mread\u001b[0m\u001b[0;34m(\u001b[0m\u001b[0mself\u001b[0m\u001b[0;34m.\u001b[0m\u001b[0mpipe_abort_read_r\u001b[0m\u001b[0;34m,\u001b[0m \u001b[0;36m1000\u001b[0m\u001b[0;34m)\u001b[0m\u001b[0;34m\u001b[0m\u001b[0m\n",
      "\u001b[0;31mKeyboardInterrupt\u001b[0m: "
     ]
    }
   ],
   "source": [
    "ser.open()\n",
    "while True:\n",
    "    data = ser.readlines()#the last bit gets rid of the new-line chars\n",
    "    if data:\n",
    "        print(data)"
   ]
  },
  {
   "cell_type": "markdown",
   "metadata": {},
   "source": [
    "### urllib module\n",
    "The urllib package is the recommended Python standard library package for HTTP tasks. The standard library also has a low-level module called http. \n",
    "\n",
    "The third-party Requests package is a very popular alternative to urllib. \n",
    "\n"
   ]
  },
  {
   "cell_type": "code",
   "execution_count": 28,
   "metadata": {},
   "outputs": [],
   "source": [
    "import urllib.request"
   ]
  },
  {
   "cell_type": "code",
   "execution_count": 38,
   "metadata": {},
   "outputs": [],
   "source": [
    "response=urllib.request.urlopen('http://www.captain-travel.com')"
   ]
  },
  {
   "cell_type": "code",
   "execution_count": 39,
   "metadata": {},
   "outputs": [
    {
     "name": "stdout",
     "output_type": "stream",
     "text": [
      "200\n",
      "http://www.captain-travel.com\n",
      "[('Server', 'nginx'), ('Date', 'Fri, 05 Feb 2016 23:00:29 GMT'), ('Content-Type', 'text/html'), ('Content-Length', '30947'), ('Connection', 'close'), ('Vary', 'Accept-Encoding'), ('Last-Modified', 'Mon, 05 Jan 2015 09:29:07 GMT'), ('ngpass_ngall', '1'), ('Accept-Ranges', 'bytes')]\n"
     ]
    }
   ],
   "source": [
    "print(response.status)\n",
    "print(response.url)\n",
    "print(response.getheaders())"
   ]
  },
  {
   "cell_type": "markdown",
   "metadata": {},
   "source": [
    "#### Customizing Requests\n",
    "Requests, and responses are made up of two main parts, headers and a body.\n",
    "To make use of the functionality that headers provide, we add headers to a request before sending it.\n",
    "+ Create a request object\n",
    "+ Add headers to the request object\n",
    "+ Use urlopen() to send the request object"
   ]
  },
  {
   "cell_type": "code",
   "execution_count": 37,
   "metadata": {},
   "outputs": [
    {
     "data": {
      "text/plain": [
       "[('Server', 'nginx'),\n",
       " ('Date', 'Fri, 05 Feb 2016 22:32:02 GMT'),\n",
       " ('Content-Type', 'text/html'),\n",
       " ('Content-Length', '30947'),\n",
       " ('Connection', 'close'),\n",
       " ('Vary', 'Accept-Encoding'),\n",
       " ('Last-Modified', 'Mon, 05 Jan 2015 09:29:07 GMT'),\n",
       " ('ngpass_ngall', '1'),\n",
       " ('Accept-Ranges', 'bytes')]"
      ]
     },
     "execution_count": 37,
     "metadata": {},
     "output_type": "execute_result"
    }
   ],
   "source": [
    "from urllib.request import Request\n",
    "req = Request('http://www.debian.org')\n",
    "req.add_header('Accept-Language', 'sv') #sv -> swedish\n",
    "response = urllib.request.urlopen(req)\n",
    "response.getheaders()"
   ]
  },
  {
   "cell_type": "code",
   "execution_count": 46,
   "metadata": {},
   "outputs": [
    {
     "data": {
      "text/plain": [
       "ParseResult(scheme='', netloc='', path='../images/tux.png', params='', query='', fragment='')"
      ]
     },
     "execution_count": 46,
     "metadata": {},
     "output_type": "execute_result"
    }
   ],
   "source": [
    "from urllib.parse import urlparse\n",
    "urlparse('../images/tux.png')"
   ]
  },
  {
   "cell_type": "code",
   "execution_count": 16,
   "metadata": {
    "scrolled": true
   },
   "outputs": [
    {
     "name": "stdout",
     "output_type": "stream",
     "text": [
      "Socket Created\n",
      "Host: www.google.com\n",
      "Host Ip: 216.58.209.196\n"
     ]
    }
   ],
   "source": [
    "#Socket client example in python\n",
    "import socket\n",
    "import sys\n",
    "#create an AF_INET, STREAM socket (TCP)\n",
    "s = socket.socket(socket.AF_INET, socket.SOCK_STREAM)\n",
    "\n",
    "print('Socket Created')\n",
    "\n",
    "host = 'www.google.com'\n",
    "port=80\n",
    "remote_ip = socket.gethostbyname( host )\n",
    "print(\"Host: \"+host)\n",
    "print(\"Host Ip: \"+remote_ip)\n",
    "\n",
    "#Connect to remote server\n",
    "s.connect((remote_ip , port))"
   ]
  },
  {
   "cell_type": "markdown",
   "metadata": {},
   "source": [
    "```\n",
    "gethostname()\n",
    "gethostbyname()\n",
    "```"
   ]
  },
  {
   "cell_type": "code",
   "execution_count": 17,
   "metadata": {},
   "outputs": [
    {
     "name": "stdout",
     "output_type": "stream",
     "text": [
      "Host name: Debis-MacBook-Pro.local\n"
     ]
    }
   ],
   "source": [
    "host_name = socket.gethostname()\n",
    "print(\"Host name: %s\" %host_name)"
   ]
  },
  {
   "cell_type": "code",
   "execution_count": 31,
   "metadata": {},
   "outputs": [
    {
     "data": {
      "text/plain": [
       "'127.0.0.1'"
      ]
     },
     "execution_count": 31,
     "metadata": {},
     "output_type": "execute_result"
    }
   ],
   "source": [
    "socket.gethostbyname('localhost')"
   ]
  },
  {
   "cell_type": "code",
   "execution_count": 32,
   "metadata": {},
   "outputs": [
    {
     "data": {
      "text/plain": [
       "'192.168.1.101'"
      ]
     },
     "execution_count": 32,
     "metadata": {},
     "output_type": "execute_result"
    }
   ],
   "source": [
    "socket.gethostbyname(socket.gethostname())"
   ]
  }
 ],
 "metadata": {
  "kernelspec": {
   "display_name": "Python 3",
   "language": "python",
   "name": "python3"
  },
  "language_info": {
   "codemirror_mode": {
    "name": "ipython",
    "version": 3
   },
   "file_extension": ".py",
   "mimetype": "text/x-python",
   "name": "python",
   "nbconvert_exporter": "python",
   "pygments_lexer": "ipython3",
   "version": "3.7.4"
  }
 },
 "nbformat": 4,
 "nbformat_minor": 1
}
