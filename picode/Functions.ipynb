{
 "cells": [
  {
   "cell_type": "code",
   "execution_count": 35,
   "metadata": {},
   "outputs": [],
   "source": [
    "import datetime\n",
    "import csv\n",
    "import json"
   ]
  },
  {
   "cell_type": "code",
   "execution_count": 48,
   "metadata": {},
   "outputs": [],
   "source": [
    "def get_stampid():\n",
    "    ts = datetime.datetime.now().timestamp()\n",
    "    timestamp=str(ts).split('.')[0]\n",
    "    return timestamp"
   ]
  },
  {
   "cell_type": "code",
   "execution_count": 49,
   "metadata": {},
   "outputs": [
    {
     "data": {
      "text/plain": [
       "'1568057694'"
      ]
     },
     "execution_count": 49,
     "metadata": {},
     "output_type": "execute_result"
    }
   ],
   "source": [
    "get_stampid()"
   ]
  },
  {
   "cell_type": "code",
   "execution_count": 44,
   "metadata": {},
   "outputs": [],
   "source": [
    "def build_profile(first='na',last='na',sex='na',**user_info):\n",
    "    \"\"\"Using Arbitrary Keyword Arguments\"\"\"\n",
    "    \"\"\"Build a dictionary containing everything we know about a user.\"\"\"\n",
    "    profile={}\n",
    "    profile['id']=get_stampid()\n",
    "    profile['first_name']=first\n",
    "    profile['last_name']=last\n",
    "    profile['sexuality']=sex\n",
    "    for key,value in user_info.items():\n",
    "        profile[key]=value\n",
    "    return profile"
   ]
  },
  {
   "cell_type": "code",
   "execution_count": 40,
   "metadata": {},
   "outputs": [],
   "source": [
    "ifile  = open('people.csv', \"rt\")"
   ]
  },
  {
   "cell_type": "code",
   "execution_count": 22,
   "metadata": {},
   "outputs": [],
   "source": [
    "data=[]"
   ]
  },
  {
   "cell_type": "code",
   "execution_count": 45,
   "metadata": {},
   "outputs": [],
   "source": [
    "profile=build_profile('elif','koslu','female')"
   ]
  },
  {
   "cell_type": "code",
   "execution_count": 27,
   "metadata": {},
   "outputs": [],
   "source": [
    "data.append(profile)"
   ]
  },
  {
   "cell_type": "code",
   "execution_count": 28,
   "metadata": {},
   "outputs": [
    {
     "name": "stdout",
     "output_type": "stream",
     "text": [
      "{'id': '1567970991', 'first_name': 'memet', 'last_name': 'koslu', 'sexuality': 'male'}\n",
      "{'id': '1567971012', 'first_name': 'elif', 'last_name': 'koslu', 'sexuality': 'female'}\n"
     ]
    }
   ],
   "source": [
    "for row in data:\n",
    "    print(row)"
   ]
  },
  {
   "cell_type": "code",
   "execution_count": 23,
   "metadata": {},
   "outputs": [],
   "source": [
    "csv_columns = ['id','first_name','last_name','sexuality']"
   ]
  },
  {
   "cell_type": "code",
   "execution_count": 29,
   "metadata": {},
   "outputs": [],
   "source": [
    "# writing a list of dict to csv file\n",
    "with open('people.csv', \"at\") as csvfile:\n",
    "    writer = csv.DictWriter(csvfile, fieldnames=csv_columns)\n",
    "    writer.writeheader()\n",
    "    for row in data:\n",
    "        writer.writerow(row)"
   ]
  },
  {
   "cell_type": "code",
   "execution_count": 34,
   "metadata": {},
   "outputs": [
    {
     "name": "stdout",
     "output_type": "stream",
     "text": [
      "<class '_csv.reader'>\n",
      "['id', 'first_name', 'last_name', 'sexuality']\n",
      "['1567970991', 'memet', 'koslu', 'male']\n",
      "['1567971012', 'elif', 'koslu', 'female']\n"
     ]
    }
   ],
   "source": [
    "# reading from a csv as a list\n",
    "with open('people.csv','r') as csvfile:\n",
    "    reader = csv.reader(csvfile)\n",
    "    print(type(reader))\n",
    "    for row in reader:\n",
    "        print(row)"
   ]
  },
  {
   "cell_type": "code",
   "execution_count": 41,
   "metadata": {},
   "outputs": [],
   "source": [
    "profile_json = json.dumps(profile)"
   ]
  },
  {
   "cell_type": "code",
   "execution_count": 43,
   "metadata": {},
   "outputs": [
    {
     "data": {
      "text/plain": [
       "dict"
      ]
     },
     "execution_count": 43,
     "metadata": {},
     "output_type": "execute_result"
    }
   ],
   "source": [
    "type(profile)"
   ]
  },
  {
   "cell_type": "code",
   "execution_count": 20,
   "metadata": {},
   "outputs": [],
   "source": [
    "with open('people.csv', \"wt\") as csvfile:\n",
    "    for key in profile.keys():\n",
    "        csvfile.write(\"%s,%s\\n\"%(key,profile[key]))"
   ]
  },
  {
   "cell_type": "code",
   "execution_count": 38,
   "metadata": {},
   "outputs": [
    {
     "data": {
      "text/plain": [
       "{'id': '1567944981', 'first_name': 'ali', 'last_name': 'na', 'sexuality': 'na'}"
      ]
     },
     "execution_count": 38,
     "metadata": {},
     "output_type": "execute_result"
    }
   ],
   "source": [
    "profile"
   ]
  },
  {
   "cell_type": "markdown",
   "metadata": {},
   "source": [
    "# Functions\n",
    "Functions are named block of code that are designed to do one specific job.\n",
    "#### Passing Arguments\n",
    "Positional Arguments <br/>\n",
    "Keyword Arguments<br/>\n",
    "Default Value<br/>\n",
    "Optional Argument"
   ]
  },
  {
   "cell_type": "code",
   "execution_count": 31,
   "metadata": {},
   "outputs": [
    {
     "name": "stdout",
     "output_type": "stream",
     "text": [
      "{'first': 'elif', 'last': 'koslu'}\n"
     ]
    }
   ],
   "source": [
    "# person.py\n",
    "def built_person(first_name,last_name,middle_name=''):\n",
    "    \"\"\"Return a dictionary of information about a person.\"\"\"\n",
    "    person={'first':first_name,'last':last_name}\n",
    "    if middle_name:\n",
    "        person['middle']=middle_name\n",
    "    return person\n",
    "\n",
    "root=built_person('elif','koslu')\n",
    "print(root)"
   ]
  },
  {
   "cell_type": "code",
   "execution_count": 32,
   "metadata": {},
   "outputs": [],
   "source": [
    "def make_pizza(size, *toppings): # there is a space between !!\n",
    "    print(\"\\nMaking a \"+str(size)+\"-inch pizza with the following toppings:\")\n",
    "    for topping in toppings:\n",
    "        print(\"- \"+topping)"
   ]
  },
  {
   "cell_type": "markdown",
   "metadata": {},
   "source": [
    "## Using arbitrary keyword arguments kwargs\n",
    "Sometimes you'll want to accept an arbitrary number of arguments, but you won't know ahead of time what kind of information will be passed to the function. In this case, you can write functions that accept as many key-value pairs as the calling statement provides."
   ]
  },
  {
   "cell_type": "code",
   "execution_count": null,
   "metadata": {},
   "outputs": [],
   "source": [
    "# Rates app, action app\n",
    "ts = datetime.datetime.now().timestamp()\n",
    "timestamp=str(ts).split('.')[0]\n",
    "print(timestamp)"
   ]
  },
  {
   "cell_type": "code",
   "execution_count": 27,
   "metadata": {},
   "outputs": [
    {
     "name": "stdout",
     "output_type": "stream",
     "text": [
      "{'id': '1567941111', 'first_name': 'na', 'last_name': 'na', 'sexuality': 'na'}\n"
     ]
    }
   ],
   "source": [
    "user_profile=build_profile()\n",
    "print(user_profile)"
   ]
  }
 ],
 "metadata": {
  "kernelspec": {
   "display_name": "Django Shell-Plus",
   "language": "python",
   "name": "django_extensions"
  },
  "language_info": {
   "codemirror_mode": {
    "name": "ipython",
    "version": 3
   },
   "file_extension": ".py",
   "mimetype": "text/x-python",
   "name": "python",
   "nbconvert_exporter": "python",
   "pygments_lexer": "ipython3",
   "version": "3.7.4"
  }
 },
 "nbformat": 4,
 "nbformat_minor": 2
}
